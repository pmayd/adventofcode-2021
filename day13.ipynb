{
 "cells": [
  {
   "cell_type": "code",
   "execution_count": 66,
   "id": "a6ccc32d-fdef-402c-ae92-e4219d35f937",
   "metadata": {},
   "outputs": [],
   "source": [
    "import numpy as np\n",
    "import pandas as pd\n",
    "import parse"
   ]
  },
  {
   "cell_type": "code",
   "execution_count": 65,
   "id": "fb704493-e058-4b58-b597-a6df3aabdd2d",
   "metadata": {},
   "outputs": [
    {
     "name": "stdout",
     "output_type": "stream",
     "text": [
      "Collecting parse\n",
      "  Downloading parse-1.19.0.tar.gz (30 kB)\n",
      "Building wheels for collected packages: parse\n",
      "  Building wheel for parse (setup.py): started\n",
      "  Building wheel for parse (setup.py): finished with status 'done'\n",
      "  Created wheel for parse: filename=parse-1.19.0-py3-none-any.whl size=24591 sha256=0a6ed43325ce378e79b6e3e5f9b91cea70ab3993216a4c83f7cd3ec3995166a9\n",
      "  Stored in directory: c:\\users\\micha\\appdata\\local\\pip\\cache\\wheels\\d6\\9c\\58\\ee3ba36897e890f3ad81e9b730791a153fce20caa4a8a474df\n",
      "Successfully built parse\n",
      "Installing collected packages: parse\n",
      "Successfully installed parse-1.19.0\n"
     ]
    }
   ],
   "source": [
    "!pip install parse"
   ]
  },
  {
   "cell_type": "code",
   "execution_count": 108,
   "id": "4081286c-a659-4892-9133-38b2250d8d19",
   "metadata": {},
   "outputs": [],
   "source": [
    "input_ = open(\"day13.txt\", \"r\", encoding=\"utf-16\").read()"
   ]
  },
  {
   "cell_type": "code",
   "execution_count": 109,
   "id": "8e0bc829-b5ae-4a24-96c1-96a75877d940",
   "metadata": {
    "collapsed": true,
    "jupyter": {
     "outputs_hidden": true
    },
    "tags": []
   },
   "outputs": [
    {
     "data": {
      "text/plain": [
       "'77,882\\n656,319\\n787,478\\n0,487\\n1158,150\\n462,543\\n1073,509\\n989,886\\n1014,225\\n38,105\\n865,52\\n510,395\\n979,602\\n959,554\\n72,29\\n10,493\\n318,722\\n637,189\\n1231,406\\n152,821\\n1124,728\\n820,207\\n328,323\\n430,381\\n668,21\\n618,884\\n691,879\\n345,427\\n162,687\\n739,394\\n577,847\\n965,427\\n495,245\\n52,352\\n366,260\\n35,849\\n1285,89\\n402,677\\n254,141\\n987,327\\n808,270\\n619,401\\n1203,233\\n1096,198\\n1086,466\\n452,283\\n243,122\\n1051,299\\n692,458\\n102,285\\n815,649\\n930,660\\n319,777\\n472,506\\n291,431\\n656,166\\n527,316\\n1145,138\\n164,655\\n646,473\\n1293,203\\n142,21\\n1208,18\\n1039,885\\n502,753\\n694,109\\n776,262\\n132,88\\n1283,638\\n1014,669\\n912,403\\n1145,756\\n1069,672\\n421,243\\n1227,430\\n855,92\\n870,198\\n7,726\\n1017,14\\n738,459\\n979,327\\n1118,239\\n562,865\\n137,730\\n83,430\\n743,331\\n636,448\\n1148,547\\n254,753\\n960,462\\n102,130\\n1029,549\\n73,58\\n821,756\\n1288,812\\n199,828\\n413,40\\n82,435\\n308,395\\n107,233\\n440,368\\n569,670\\n1109,206\\n719,875\\n494,54\\n333,8\\n1004,348\\n800,164\\n411,724\\n77,210\\n900,165\\n80,340\\n649,522\\n85,33\\n1058,677\\n291,543\\n594,18\\n758,738\\n512,546\\n1279,854\\n124,312\\n619,15\\n247,138\\n624,465\\n1102,156\\n165,138\\n42,694\\n470,39\\n984,123\\n1153,43\\n132,478\\n961,5\\n932,264\\n850,358\\n763,698\\n490,655\\n191,414\\n959,106\\n336,647\\n656,347\\n1104,441\\n1067,859\\n36,436\\n733,847\\n370,428\\n97,712\\n584,276\\n252,441\\n411,170\\n131,430\\n1076,494\\n271,9\\n201,206\\n1178,478\\n572,459\\n3,567\\n803,694\\n1186,507\\n442,84\\n571,532\\n1069,525\\n194,806\\n818,871\\n1230,340\\n770,534\\n304,840\\n381,219\\n1171,513\\n338,361\\n351,340\\n336,23\\n1039,512\\n975,616\\n272,782\\n796,716\\n160,287\\n1223,10\\n201,458\\n815,245\\n678,432\\n825,3\\n420,597\\n773,400\\n572,817\\n1231,210\\n624,88\\n940,68\\n1208,609\\n855,316\\n840,605\\n1308,70\\n738,817\\n1158,821\\n577,460\\n497,182\\n629,421\\n333,522\\n131,464\\n1178,806\\n325,500\\n677,329\\n666,52\\n1218,400\\n678,502\\n1283,190\\n1014,241\\n1173,476\\n741,236\\n512,796\\n1272,120\\n1064,788\\n433,480\\n865,730\\n187,177\\n185,378\\n30,88\\n7,441\\n743,322\\n303,289\\n959,65\\n162,347\\n577,47\\n1131,822\\n1069,623\\n22,604\\n1111,380\\n370,792\\n636,619\\n1081,848\\n644,52\\n373,702\\n994,361\\n992,396\\n1265,736\\n897,301\\n929,675\\n383,830\\n234,404\\n35,718\\n349,889\\n291,463\\n1293,189\\n1047,413\\n35,243\\n358,673\\n1178,416\\n185,516\\n562,404\\n77,854\\n513,826\\n1300,493\\n616,102\\n351,554\\n494,392\\n698,68\\n1280,241\\n858,312\\n537,400\\n1223,93\\n748,628\\n940,826\\n77,434\\n489,618\\n546,560\\n497,712\\n176,145\\n239,577\\n927,134\\n798,796\\n127,474\\n430,605\\n23,849\\n813,712\\n960,716\\n753,253\\n1218,381\\n161,84\\n800,282\\n452,312\\n562,490\\n70,276\\n1289,329\\n673,33\\n1268,550\\n1280,528\\n184,21\\n480,567\\n167,873\\n488,432\\n137,612\\n637,637\\n358,653\\n961,602\\n848,705\\n154,386\\n718,725\\n1108,333\\n1064,211\\n880,381\\n741,670\\n291,203\\n416,880\\n45,736\\n1109,688\\n229,29\\n986,166\\n160,840\\n246,106\\n713,190\\n651,516\\n1131,520\\n348,404\\n825,739\\n1205,737\\n397,19\\n1223,796\\n510,613\\n1292,843\\n811,616\\n326,508\\n398,715\\n731,801\\n97,46\\n334,236\\n199,66\\n114,810\\n1226,492\\n1115,520\\n12,873\\n1111,540\\n683,704\\n549,737\\n1170,390\\n959,452\\n899,724\\n986,280\\n686,241\\n406,450\\n499,54\\n1253,190\\n818,23\\n470,289\\n1016,870\\n597,190\\n1186,835\\n160,502\\n1275,849\\n959,177\\n1061,637\\n895,658\\n348,490\\n780,731\\n139,605\\n1260,1\\n679,106\\n1058,350\\n902,211\\n1289,565\\n579,93\\n296,806\\n514,147\\n266,290\\n256,381\\n1170,626\\n841,528\\n184,263\\n947,203\\n562,46\\n632,290\\n736,106\\n184,873\\n813,3\\n288,430\\n224,802\\n1076,490\\n1150,502\\n800,612\\n219,213\\n252,350\\n185,304\\n448,632\\n708,352\\n880,130\\n868,810\\n239,317\\n1228,613\\n562,513\\n713,638\\n550,700\\n976,658\\n346,171\\n420,774\\n647,117\\n523,128\\n53,784\\n678,530\\n534,120\\n378,159\\n1193,58\\n577,40\\n664,473\\n530,835\\n562,494\\n656,534\\n1203,661\\n25,25\\n281,549\\n291,691\\n1158,243\\n1056,141\\n830,701\\n823,469\\n713,704\\n910,801\\n157,851\\n631,676\\n1173,85\\n472,730\\n1014,806\\n502,598\\n296,877\\n754,63\\n291,351\\n1091,233\\n977,451\\n383,642\\n1071,236\\n818,471\\n862,693\\n1186,59\\n1274,436\\n940,428\\n1307,775\\n862,632\\n604,750\\n139,513\\n1307,516\\n1059,353\\n1203,698\\n276,264\\n517,866\\n821,187\\n166,290\\n523,794\\n1256,110\\n587,747\\n739,464\\n182,501\\n562,266\\n840,42\\n1275,243\\n604,1\\n816,287\\n713,256\\n932,630\\n1002,395\\n567,331\\n239,236\\n989,74\\n1233,460\\n55,64\\n664,535\\n1086,381\\n331,602\\n273,110\\n899,170\\n686,689\\n1305,451\\n1086,285\\n932,735\\n114,362\\n698,694\\n1158,40\\n1218,439\\n331,327\\n698,200\\n1215,859\\n739,532\\n654,534\\n1158,624\\n1196,810\\n1200,128\\n808,73\\n513,131\\n241,525\\n408,659\\n162,547\\n92,886\\n556,63\\n259,299\\n666,742\\n592,169\\n7,117\\n440,78\\n137,282\\n616,785\\n109,219\\n70,403\\n320,236\\n412,103\\n830,822\\n899,618\\n30,653\\n1280,770\\n1144,40\\n1310,280\\n1041,862\\n947,15\\n989,8\\n1091,213\\n349,292\\n1086,428\\n862,245\\n154,508\\n346,723\\n234,754\\n413,271\\n462,207\\n328,386\\n681,869\\n186,280\\n753,176\\n731,93\\n808,262\\n445,556\\n494,840\\n557,718\\n1198,78\\n80,820\\n140,147\\n415,658\\n1171,269\\n1076,588\\n105,737\\n616,445\\n855,578\\n1005,154\\n542,646\\n1128,393\\n517,164\\n912,491\\n1067,35\\n242,791\\n209,756\\n947,463\\n547,698\\n411,324\\n644,376\\n912,715\\n810,60\\n880,428\\n956,493\\n112,78\\n947,400\\n398,65\\n1115,254\\n523,640\\n567,563\\n1255,830\\n1170,147\\n1288,432\\n851,702\\n925,414\\n160,54\\n547,661\\n1109,212\\n335,616\\n488,40\\n793,364\\n580,124\\n189,84\\n1058,322\\n716,18\\n80,422\\n102,156\\n107,698\\n1108,878\\n433,605\\n164,239\\n890,120\\n398,403\\n664,807\\n546,782\\n748,266\\n485,331\\n415,236\\n653,730\\n1124,280\\n0,575\\n1121,362\\n124,59\\n545,667\\n674,448\\n1141,155\\n899,84\\n331,154\\n515,513\\n1071,577\\n82,116\\n1101,108\\n1225,861\\n813,451\\n637,33\\n1125,378\\n1166,169\\n1038,782\\n97,624\\n249,189\\n1250,18\\n1223,523\\n499,278\\n1272,445\\n31,854\\n787,416\\n897,593\\n97,396\\n487,425\\n691,849\\n858,449\\n430,285\\n1101,351\\n189,28\\n1285,25\\n981,75\\n855,802\\n321,8\\n574,340\\n947,431\\n753,718\\n411,618\\n224,285\\n334,658\\n331,740\\n35,270\\n929,558\\n497,184\\n159,103\\n249,12\\n497,891\\n108,334\\n378,264\\n880,876\\n296,669\\n1304,236\\n830,72\\n31,488\\n167,425\\n75,801\\n1258,352\\n3,775\\n912,65\\n363,543\\n44,828\\n1007,666\\n1091,661\\n84,402\\n855,540\\n1305,73\\n743,563\\n179,520\\n1073,833\\n1026,792\\n85,147\\n656,280\\n271,512\\n889,243\\n358,241\\n632,392\\n1275,270\\n1063,138\\n87,371\\n880,285\\n880,289\\n1111,578\\n1125,516\\n1037,219\\n445,52\\n1168,873\\n462,705\\n1223,563\\n195,254\\n169,155\\n117,58\\n53,558\\n54,560\\n982,508\\n967,541\\n1205,157\\n858,344\\n619,879\\n848,257\\n514,716\\n1047,481\\n1014,877\\n114,84\\n157,43\\n1059,801\\n899,324\\n686,1\\n445,584\\n25,537\\n904,2\\n649,373\\n284,792\\n452,102\\n1250,466\\n388,92\\n1233,210\\n1001,427\\n28,413\\n201,240\\n385,414\\n803,200\\n571,500\\n517,197\\n378,735\\n370,68\\n733,47\\n646,535\\n60,466\\n1288,604\\n8,535\\n38,102\\n1148,743\\n306,289\\n1136,712\\n822,432\\n679,788\\n748,513\\n764,560\\n1230,442\\n85,658\\n1058,453\\n27,638\\n698,708\\n485,3\\n1019,351\\n899,810\\n681,421\\n1213,396\\n813,67\\n624,429\\n950,362\\n991,777\\n1064,198\\n363,203\\n366,109\\n1044,738\\n80,452\\n328,235\\n686,429\\n647,168\\n842,840\\n405,294\\n1136,633\\n1126,21\\n656,278\\n624,893\\n691,401\\n350,462\\n345,705\\n480,822\\n408,235\\n1068,791\\n1143,425\\n114,756\\n1193,584\\n134,593\\n709,784\\n686,256\\n348,714\\n273,675\\n1,164\\n600,782\\n1213,46\\n350,716\\n1196,756\\n1183,474\\n1069,719\\n1002,638\\n571,394\\n349,602\\n736,459\\n494,432\\n497,3\\n1293,33\\n269,862\\n202,16\\n694,449\\n294,810\\n764,112\\n493,707\\n199,540\\n619,45\\n1186,312\\n1126,605\\n678,604\\n1193,836\\n241,672\\n1019,203\\n28,481\\n597,638\\n1067,122\\n612,344\\n201,212\\n400,801\\n237,833\\n306,348\\n425,865\\n152,632\\n381,675\\n239,3\\n574,659\\n870,368\\n20,457\\n1067,618\\n552,156\\n686,893\\n890,196\\n502,29\\n787,794\\n82,281\\n599,700\\n1041,249\\n351,177\\n303,228\\n1225,672\\n502,821\\n391,481\\n400,93\\n430,18\\n448,262\\n1019,463\\n780,59\\n644,742\\n793,164\\n492,471\\n87,115\\n547,644\\n574,554\\n694,893\\n25,89\\n1121,866\\n490,239\\n1256,560\\n739,362\\n405,257\\n430,876\\n730,124\\n370,102\\n366,634\\n95,411\\n523,766\\n452,113\\n1236,772\\n544,10\\n162,151\\n489,187\\n663,329\\n763,196\\n195,702\\n527,578\\n766,10\\n979,119\\n930,234\\n780,582\\n\\nfold along x=655\\nfold along y=447\\nfold along x=327\\nfold along y=223\\nfold along x=163\\nfold along y=111\\nfold along x=81\\nfold along y=55\\nfold along x=40\\nfold along y=27\\nfold along y=13\\nfold along y=6\\n'"
      ]
     },
     "execution_count": 109,
     "metadata": {},
     "output_type": "execute_result"
    }
   ],
   "source": [
    "input_"
   ]
  },
  {
   "cell_type": "code",
   "execution_count": 8,
   "id": "36d04c90-913c-48e5-af29-094e806f8356",
   "metadata": {},
   "outputs": [],
   "source": [
    "demo = \"\"\"6,10\n",
    "0,14\n",
    "9,10\n",
    "0,3\n",
    "10,4\n",
    "4,11\n",
    "6,0\n",
    "6,12\n",
    "4,1\n",
    "0,13\n",
    "10,12\n",
    "3,4\n",
    "3,0\n",
    "8,4\n",
    "1,10\n",
    "2,14\n",
    "8,10\n",
    "9,0\n",
    "\n",
    "fold along y=7\n",
    "fold along x=5\"\"\""
   ]
  },
  {
   "cell_type": "code",
   "execution_count": 48,
   "id": "bc41a9fc-dfa0-4d2f-b04a-a5e517e74b4e",
   "metadata": {},
   "outputs": [],
   "source": [
    "def process_input(input_: str) -> tuple[np.array, list[str]]:\n",
    "    lines = input_.splitlines()\n",
    "    empty_line = lines.index(\"\")\n",
    "    return np.array([l.split(\",\") for l in lines[:empty_line]], dtype=int), lines[empty_line+1:]"
   ]
  },
  {
   "cell_type": "code",
   "execution_count": 148,
   "id": "35e88dee-7466-4815-9dab-76067151e758",
   "metadata": {},
   "outputs": [],
   "source": [
    "def create_paper(coords: np.array) -> np.array:\n",
    "    x_max, y_max = coords[:,0].max(), coords[:,1].max()\n",
    "    if x_max % 2 != 0:\n",
    "        x_max += 1\n",
    "    if y_max % 2 != 0:\n",
    "        y_max += 1\n",
    "    paper = np.full((y_max+1, x_max+1), \".\")\n",
    "    for x,y in coords:\n",
    "        paper[y,x] = '#'\n",
    "    return paper\n",
    "    "
   ]
  },
  {
   "cell_type": "code",
   "execution_count": 149,
   "id": "75bcb3fe-82c6-4ace-bf11-f51fb6d56a29",
   "metadata": {},
   "outputs": [],
   "source": [
    "def print_paper(paper: np.array) -> str:\n",
    "    for row in paper:\n",
    "        print(\" \".join(row))"
   ]
  },
  {
   "cell_type": "code",
   "execution_count": 167,
   "id": "db8a558e-245e-4361-bfb8-2ba196487e30",
   "metadata": {},
   "outputs": [],
   "source": [
    "def fold_paper(paper: np.array, instruction: str) -> np.array:\n",
    "    axis, coord = parse.parse(\"fold along {}={:d}\", instruction)\n",
    "    paper_copy = np.where(paper == \"#\", True, False)\n",
    "    if axis == 'x':\n",
    "        part_one, part_two = paper_copy[:, :coord], paper_copy[:, coord+1:]\n",
    "        part_two = np.flip(part_two, axis=1)\n",
    "    else:\n",
    "        part_one, part_two = paper_copy[:coord, :], paper_copy[coord+1:, :]\n",
    "        part_two = np.flip(part_two, axis=0)\n",
    "        \n",
    "    paper_copy = part_one + part_two\n",
    "    return np.where(paper_copy, \"#\", \".\")"
   ]
  },
  {
   "cell_type": "code",
   "execution_count": 168,
   "id": "ac933dc1-f54b-4271-9b57-84ef83ec7172",
   "metadata": {},
   "outputs": [],
   "source": [
    "coords, folds = process_input(demo)"
   ]
  },
  {
   "cell_type": "code",
   "execution_count": 169,
   "id": "09cea049-441c-4351-97db-af4093a4a199",
   "metadata": {},
   "outputs": [],
   "source": [
    "paper = create_paper(coords)"
   ]
  },
  {
   "cell_type": "code",
   "execution_count": 170,
   "id": "3d6d24b1-1edc-40e5-93f9-516f2c04923a",
   "metadata": {},
   "outputs": [
    {
     "name": "stdout",
     "output_type": "stream",
     "text": [
      ". . . # . . # . . # .\n",
      ". . . . # . . . . . .\n",
      ". . . . . . . . . . .\n",
      "# . . . . . . . . . .\n",
      ". . . # . . . . # . #\n",
      ". . . . . . . . . . .\n",
      ". . . . . . . . . . .\n",
      ". . . . . . . . . . .\n",
      ". . . . . . . . . . .\n",
      ". . . . . . . . . . .\n",
      ". # . . . . # . # # .\n",
      ". . . . # . . . . . .\n",
      ". . . . . . # . . . #\n",
      "# . . . . . . . . . .\n",
      "# . # . . . . . . . .\n"
     ]
    }
   ],
   "source": [
    "print_paper(paper)"
   ]
  },
  {
   "cell_type": "code",
   "execution_count": 154,
   "id": "2ea0dba5-559e-4d9e-83c7-0d66b190fe8f",
   "metadata": {},
   "outputs": [
    {
     "name": "stdout",
     "output_type": "stream",
     "text": [
      "# . # # . . # . . # .\n",
      "# . . . # . . . . . .\n",
      ". . . . . . # . . . #\n",
      "# . . . # . . . . . .\n",
      ". # . # . . # . # # #\n",
      ". . . . . . . . . . .\n",
      ". . . . . . . . . . .\n"
     ]
    }
   ],
   "source": [
    "print_paper(fold_paper(paper, folds[0]))"
   ]
  },
  {
   "cell_type": "code",
   "execution_count": 155,
   "id": "34670d72-8edb-4331-90af-85dd5949ce2a",
   "metadata": {},
   "outputs": [
    {
     "data": {
      "text/plain": [
       "17"
      ]
     },
     "execution_count": 155,
     "metadata": {},
     "output_type": "execute_result"
    }
   ],
   "source": [
    "# answer for demo\n",
    "np.sum(fold_paper(paper, folds[0]) == \"#\")"
   ]
  },
  {
   "cell_type": "code",
   "execution_count": 156,
   "id": "85acf736-796f-4be6-9fa9-a065e5cc7928",
   "metadata": {},
   "outputs": [],
   "source": [
    "coords, folds = process_input(input_)"
   ]
  },
  {
   "cell_type": "code",
   "execution_count": 157,
   "id": "1a4109b4-f15f-4fca-8dc6-198f5834f7fd",
   "metadata": {},
   "outputs": [],
   "source": [
    "paper = create_paper(coords)"
   ]
  },
  {
   "cell_type": "code",
   "execution_count": 158,
   "id": "0a8938a9-9783-4870-9d55-d5e02e9d4312",
   "metadata": {},
   "outputs": [
    {
     "data": {
      "text/plain": [
       "708"
      ]
     },
     "execution_count": 158,
     "metadata": {},
     "output_type": "execute_result"
    }
   ],
   "source": [
    "# answer for input\n",
    "np.sum(fold_paper(paper, folds[0]) == \"#\")"
   ]
  },
  {
   "cell_type": "markdown",
   "id": "f3e9cc02-1f13-4c13-87ba-1b274fdf312c",
   "metadata": {},
   "source": [
    "Part Two\n",
    "\n",
    "Finish folding the transparent paper according to the instructions. The manual says the code is always eight capital letters.\n",
    "\n",
    "What code do you use to activate the infrared thermal imaging camera system?"
   ]
  },
  {
   "cell_type": "code",
   "execution_count": 159,
   "id": "be33a64a-270f-421d-a41e-b22688c885a7",
   "metadata": {},
   "outputs": [
    {
     "name": "stdout",
     "output_type": "stream",
     "text": [
      "# # # # #\n",
      "# . . . #\n",
      "# . . . #\n",
      "# . . . #\n",
      "# # # # #\n",
      ". . . . .\n",
      ". . . . .\n"
     ]
    }
   ],
   "source": [
    "coords, folds = process_input(demo)\n",
    "paper = create_paper(coords)\n",
    "\n",
    "for fold in folds:\n",
    "    paper = fold_paper(paper, fold)\n",
    "    \n",
    "print_paper(paper)"
   ]
  },
  {
   "cell_type": "code",
   "execution_count": 160,
   "id": "b0eab877-d29d-4958-a8d1-6be3b73e7a20",
   "metadata": {},
   "outputs": [
    {
     "name": "stdout",
     "output_type": "stream",
     "text": [
      "(895, 1311)\n",
      "fold along x=655\n",
      "(895, 655)\n",
      "fold along y=447\n",
      "(447, 655)\n",
      "fold along x=327\n",
      "(447, 327)\n",
      "fold along y=223\n",
      "(223, 327)\n",
      "fold along x=163\n",
      "(223, 163)\n",
      "fold along y=111\n",
      "(111, 163)\n",
      "fold along x=81\n",
      "(111, 81)\n",
      "fold along y=55\n",
      "(55, 81)\n",
      "fold along x=40\n",
      "(55, 40)\n",
      "fold along y=27\n",
      "(27, 40)\n",
      "fold along y=13\n",
      "(13, 40)\n",
      "fold along y=6\n",
      "# # # # . # # # . . # . . . . # . . # . # # # . . # # # . . # # # # . # . . # .\n",
      "# . . . . # . . # . # . . . . # . . # . # . . # . # . . # . # . . . . # . . # .\n",
      "# # # . . # # # . . # . . . . # . . # . # # # . . # . . # . # # # . . # # # # .\n",
      "# . . . . # . . # . # . . . . # . . # . # . . # . # # # . . # . . . . # . . # .\n",
      "# . . . . # . . # . # . . . . # . . # . # . . # . # . # . . # . . . . # . . # .\n",
      "# # # # . # # # . . # # # # . . # # . . # # # . . # . . # . # . . . . # . . # .\n"
     ]
    }
   ],
   "source": [
    "coords, folds = process_input(input_)\n",
    "paper = create_paper(coords)\n",
    "\n",
    "for fold in folds:\n",
    "    print(paper.shape)\n",
    "    print(fold)\n",
    "    paper = fold_paper(paper, fold)\n",
    "    \n",
    "print_paper(paper)"
   ]
  },
  {
   "cell_type": "code",
   "execution_count": 136,
   "id": "1c48caa5-eda7-4cf2-a98d-bbd94a1b1253",
   "metadata": {},
   "outputs": [
    {
     "data": {
      "text/plain": [
       "893"
      ]
     },
     "execution_count": 136,
     "metadata": {},
     "output_type": "execute_result"
    }
   ],
   "source": [
    "# answer for input:\n",
    "EBLUBRFH"
   ]
  },
  {
   "cell_type": "code",
   "execution_count": null,
   "id": "45e79618-67ab-40f3-be19-6618021fbb83",
   "metadata": {},
   "outputs": [],
   "source": []
  }
 ],
 "metadata": {
  "kernelspec": {
   "display_name": "Python 3.9 (aocd)",
   "language": "python",
   "name": "aocd"
  },
  "language_info": {
   "codemirror_mode": {
    "name": "ipython",
    "version": 3
   },
   "file_extension": ".py",
   "mimetype": "text/x-python",
   "name": "python",
   "nbconvert_exporter": "python",
   "pygments_lexer": "ipython3",
   "version": "3.9.7"
  }
 },
 "nbformat": 4,
 "nbformat_minor": 5
}
