{
 "cells": [
  {
   "cell_type": "code",
   "execution_count": 9,
   "id": "777ee276-e4dd-47e6-a76f-995fd82e2c20",
   "metadata": {},
   "outputs": [],
   "source": [
    "import numpy as np"
   ]
  },
  {
   "cell_type": "code",
   "execution_count": 1,
   "id": "891dc188-5ece-4e4b-9f3b-f2fe9e1e4414",
   "metadata": {},
   "outputs": [],
   "source": [
    "input_ = list(map(int, open(\"day06.txt\", \"r\", encoding=\"utf-16\").read().strip().split(\",\")))"
   ]
  },
  {
   "cell_type": "code",
   "execution_count": 2,
   "id": "82b13298-7c1c-49c4-8fa8-3d010c6b78d1",
   "metadata": {
    "collapsed": true,
    "jupyter": {
     "outputs_hidden": true
    },
    "tags": []
   },
   "outputs": [
    {
     "data": {
      "text/plain": [
       "[2,\n",
       " 1,\n",
       " 1,\n",
       " 4,\n",
       " 4,\n",
       " 1,\n",
       " 3,\n",
       " 4,\n",
       " 2,\n",
       " 4,\n",
       " 2,\n",
       " 1,\n",
       " 1,\n",
       " 4,\n",
       " 3,\n",
       " 5,\n",
       " 1,\n",
       " 1,\n",
       " 5,\n",
       " 1,\n",
       " 1,\n",
       " 5,\n",
       " 4,\n",
       " 5,\n",
       " 4,\n",
       " 1,\n",
       " 5,\n",
       " 1,\n",
       " 3,\n",
       " 1,\n",
       " 4,\n",
       " 2,\n",
       " 3,\n",
       " 2,\n",
       " 1,\n",
       " 2,\n",
       " 5,\n",
       " 5,\n",
       " 2,\n",
       " 3,\n",
       " 1,\n",
       " 2,\n",
       " 3,\n",
       " 3,\n",
       " 1,\n",
       " 4,\n",
       " 3,\n",
       " 1,\n",
       " 1,\n",
       " 1,\n",
       " 1,\n",
       " 5,\n",
       " 2,\n",
       " 1,\n",
       " 1,\n",
       " 1,\n",
       " 5,\n",
       " 3,\n",
       " 3,\n",
       " 2,\n",
       " 1,\n",
       " 4,\n",
       " 1,\n",
       " 1,\n",
       " 1,\n",
       " 3,\n",
       " 1,\n",
       " 1,\n",
       " 5,\n",
       " 5,\n",
       " 1,\n",
       " 4,\n",
       " 4,\n",
       " 4,\n",
       " 4,\n",
       " 5,\n",
       " 1,\n",
       " 5,\n",
       " 1,\n",
       " 1,\n",
       " 5,\n",
       " 5,\n",
       " 2,\n",
       " 2,\n",
       " 5,\n",
       " 4,\n",
       " 1,\n",
       " 5,\n",
       " 4,\n",
       " 1,\n",
       " 4,\n",
       " 1,\n",
       " 1,\n",
       " 1,\n",
       " 1,\n",
       " 5,\n",
       " 3,\n",
       " 2,\n",
       " 4,\n",
       " 1,\n",
       " 1,\n",
       " 1,\n",
       " 4,\n",
       " 4,\n",
       " 1,\n",
       " 2,\n",
       " 1,\n",
       " 1,\n",
       " 5,\n",
       " 2,\n",
       " 1,\n",
       " 1,\n",
       " 1,\n",
       " 4,\n",
       " 4,\n",
       " 4,\n",
       " 4,\n",
       " 3,\n",
       " 3,\n",
       " 1,\n",
       " 1,\n",
       " 5,\n",
       " 1,\n",
       " 5,\n",
       " 2,\n",
       " 1,\n",
       " 4,\n",
       " 1,\n",
       " 2,\n",
       " 4,\n",
       " 4,\n",
       " 4,\n",
       " 4,\n",
       " 2,\n",
       " 2,\n",
       " 2,\n",
       " 4,\n",
       " 4,\n",
       " 4,\n",
       " 2,\n",
       " 1,\n",
       " 5,\n",
       " 5,\n",
       " 2,\n",
       " 1,\n",
       " 1,\n",
       " 1,\n",
       " 4,\n",
       " 4,\n",
       " 1,\n",
       " 4,\n",
       " 2,\n",
       " 3,\n",
       " 3,\n",
       " 3,\n",
       " 3,\n",
       " 3,\n",
       " 5,\n",
       " 4,\n",
       " 1,\n",
       " 5,\n",
       " 1,\n",
       " 4,\n",
       " 5,\n",
       " 5,\n",
       " 1,\n",
       " 1,\n",
       " 1,\n",
       " 4,\n",
       " 1,\n",
       " 2,\n",
       " 4,\n",
       " 4,\n",
       " 1,\n",
       " 2,\n",
       " 3,\n",
       " 3,\n",
       " 3,\n",
       " 3,\n",
       " 5,\n",
       " 1,\n",
       " 4,\n",
       " 2,\n",
       " 5,\n",
       " 5,\n",
       " 2,\n",
       " 1,\n",
       " 1,\n",
       " 1,\n",
       " 1,\n",
       " 3,\n",
       " 3,\n",
       " 1,\n",
       " 1,\n",
       " 2,\n",
       " 3,\n",
       " 2,\n",
       " 5,\n",
       " 4,\n",
       " 2,\n",
       " 1,\n",
       " 1,\n",
       " 2,\n",
       " 2,\n",
       " 2,\n",
       " 1,\n",
       " 3,\n",
       " 1,\n",
       " 5,\n",
       " 4,\n",
       " 1,\n",
       " 1,\n",
       " 5,\n",
       " 3,\n",
       " 3,\n",
       " 2,\n",
       " 2,\n",
       " 3,\n",
       " 1,\n",
       " 1,\n",
       " 1,\n",
       " 1,\n",
       " 2,\n",
       " 4,\n",
       " 2,\n",
       " 2,\n",
       " 5,\n",
       " 1,\n",
       " 2,\n",
       " 4,\n",
       " 2,\n",
       " 1,\n",
       " 1,\n",
       " 3,\n",
       " 2,\n",
       " 5,\n",
       " 5,\n",
       " 3,\n",
       " 1,\n",
       " 3,\n",
       " 3,\n",
       " 1,\n",
       " 4,\n",
       " 1,\n",
       " 1,\n",
       " 5,\n",
       " 5,\n",
       " 1,\n",
       " 5,\n",
       " 4,\n",
       " 1,\n",
       " 1,\n",
       " 1,\n",
       " 1,\n",
       " 2,\n",
       " 3,\n",
       " 3,\n",
       " 1,\n",
       " 2,\n",
       " 3,\n",
       " 1,\n",
       " 5,\n",
       " 1,\n",
       " 3,\n",
       " 1,\n",
       " 1,\n",
       " 3,\n",
       " 1,\n",
       " 1,\n",
       " 1,\n",
       " 1,\n",
       " 1,\n",
       " 1,\n",
       " 5,\n",
       " 1,\n",
       " 1,\n",
       " 5,\n",
       " 5,\n",
       " 2,\n",
       " 1,\n",
       " 1,\n",
       " 5,\n",
       " 2,\n",
       " 4,\n",
       " 5,\n",
       " 5,\n",
       " 1,\n",
       " 1,\n",
       " 5,\n",
       " 1,\n",
       " 5,\n",
       " 5,\n",
       " 1,\n",
       " 1,\n",
       " 3,\n",
       " 3,\n",
       " 1,\n",
       " 1,\n",
       " 3,\n",
       " 1]"
      ]
     },
     "execution_count": 2,
     "metadata": {},
     "output_type": "execute_result"
    }
   ],
   "source": [
    "input_"
   ]
  },
  {
   "cell_type": "code",
   "execution_count": 3,
   "id": "de18d306-7ba4-4374-8c68-32d0f6215938",
   "metadata": {},
   "outputs": [],
   "source": [
    "class Lanternfish:\n",
    "    def __init__(self, timer: int):\n",
    "        self.timer = timer\n",
    "        \n",
    "    def next_day(self):\n",
    "        if self.timer == 0:\n",
    "            self.timer = 6\n",
    "            return Lanternfish(8) \n",
    "        \n",
    "        self.timer = max(self.timer - 1, 0)\n",
    "        \n",
    "    def __str__(self):\n",
    "        return f\"Lanternfish with timer {self.timer}\""
   ]
  },
  {
   "cell_type": "code",
   "execution_count": 4,
   "id": "b09cf118-9669-4723-af26-a15ad22f840e",
   "metadata": {},
   "outputs": [],
   "source": [
    "f = Lanternfish(3)"
   ]
  },
  {
   "cell_type": "code",
   "execution_count": 5,
   "id": "12bf5fde-7c5b-4446-a005-c66195672b60",
   "metadata": {},
   "outputs": [
    {
     "name": "stdout",
     "output_type": "stream",
     "text": [
      "Lanternfish with timer 2 None\n",
      "Lanternfish with timer 1 None\n",
      "Lanternfish with timer 0 None\n",
      "Lanternfish with timer 6 Lanternfish with timer 8\n"
     ]
    }
   ],
   "source": [
    "n = f.next_day()\n",
    "print(f, n)\n",
    "n = f.next_day()\n",
    "print(f, n)\n",
    "n = f.next_day()\n",
    "print(f, n)\n",
    "n = f.next_day()\n",
    "print(f, n)"
   ]
  },
  {
   "cell_type": "code",
   "execution_count": 7,
   "id": "6c64b983-ea62-4afe-aae3-e629c8ea411b",
   "metadata": {},
   "outputs": [],
   "source": [
    "timers = [3,4,3,1,2]\n",
    "fishes = [Lanternfish(t) for t in timers]\n",
    "\n",
    "for _ in range(80):\n",
    "    new_fishes = []\n",
    "    for f in fishes:\n",
    "        n = f.next_day()\n",
    "        \n",
    "        if n is not None:\n",
    "            new_fishes.append(n)\n",
    "            \n",
    "    fishes.extend(new_fishes)"
   ]
  },
  {
   "cell_type": "code",
   "execution_count": 8,
   "id": "e7256764-72ed-4f03-8f96-a0f703114176",
   "metadata": {},
   "outputs": [
    {
     "data": {
      "text/plain": [
       "5934"
      ]
     },
     "execution_count": 8,
     "metadata": {},
     "output_type": "execute_result"
    }
   ],
   "source": [
    "len(fishes)"
   ]
  },
  {
   "cell_type": "code",
   "execution_count": 35,
   "id": "94fec2b9-2d0a-453a-a081-4e7f0290c9fc",
   "metadata": {},
   "outputs": [
    {
     "name": "stdout",
     "output_type": "stream",
     "text": [
      "Lanternfish with timer 6\n",
      "Lanternfish with timer 0\n",
      "Lanternfish with timer 6\n",
      "Lanternfish with timer 4\n",
      "Lanternfish with timer 5\n",
      "Lanternfish with timer 6\n",
      "Lanternfish with timer 0\n",
      "Lanternfish with timer 1\n",
      "Lanternfish with timer 1\n",
      "Lanternfish with timer 2\n",
      "Lanternfish with timer 6\n",
      "Lanternfish with timer 0\n",
      "Lanternfish with timer 1\n",
      "Lanternfish with timer 1\n",
      "Lanternfish with timer 1\n",
      "Lanternfish with timer 2\n",
      "Lanternfish with timer 2\n",
      "Lanternfish with timer 3\n",
      "Lanternfish with timer 3\n",
      "Lanternfish with timer 4\n",
      "Lanternfish with timer 6\n",
      "Lanternfish with timer 7\n",
      "Lanternfish with timer 8\n",
      "Lanternfish with timer 8\n",
      "Lanternfish with timer 8\n",
      "Lanternfish with timer 8\n"
     ]
    }
   ],
   "source": [
    "for f in fishes:\n",
    "    print(f)"
   ]
  },
  {
   "cell_type": "code",
   "execution_count": 37,
   "id": "214c2ac5-cf62-4bcf-8c66-e9fedd5da9c9",
   "metadata": {},
   "outputs": [],
   "source": [
    "timers = input_\n",
    "fishes = [Lanternfish(t) for t in timers]\n",
    "\n",
    "for _ in range(80):\n",
    "    new_fishes = []\n",
    "    for f in fishes:\n",
    "        n = f.next_day()\n",
    "        \n",
    "        if n is not None:\n",
    "            new_fishes.append(n)\n",
    "            \n",
    "    fishes.extend(new_fishes)"
   ]
  },
  {
   "cell_type": "code",
   "execution_count": 38,
   "id": "97bb0158-2291-4853-b251-c16ac2d45148",
   "metadata": {},
   "outputs": [
    {
     "data": {
      "text/plain": [
       "360761"
      ]
     },
     "execution_count": 38,
     "metadata": {},
     "output_type": "execute_result"
    }
   ],
   "source": [
    "len(fishes)"
   ]
  },
  {
   "cell_type": "markdown",
   "id": "5a093229-1e7d-4b6f-901c-14d056154e20",
   "metadata": {},
   "source": [
    "Part Two\n",
    "Code does not work for 256 days, too inperformant"
   ]
  },
  {
   "cell_type": "code",
   "execution_count": 29,
   "id": "144b6d44-b568-49cb-9626-f204439b4be7",
   "metadata": {},
   "outputs": [],
   "source": [
    "# also slow!\n",
    "fishes = np.array([3,4,3,1,2])\n",
    "\n",
    "for _ in range(80):    \n",
    "    num_new_fishes = sum(fishes == 0)\n",
    "    fishes = np.where(fishes == 0, 6, fishes - 1)\n",
    "    \n",
    "    if num_new_fishes:\n",
    "        fishes = np.concatenate((fishes, [8] * num_new_fishes))\n",
    "    "
   ]
  },
  {
   "cell_type": "code",
   "execution_count": 30,
   "id": "2b6604ea-17bd-4100-a048-49090db037d2",
   "metadata": {},
   "outputs": [
    {
     "data": {
      "text/plain": [
       "5934"
      ]
     },
     "execution_count": 30,
     "metadata": {},
     "output_type": "execute_result"
    }
   ],
   "source": [
    "len(fishes)"
   ]
  },
  {
   "cell_type": "code",
   "execution_count": 37,
   "id": "65546da5-0b2a-4f9d-8c19-bc07d9374911",
   "metadata": {},
   "outputs": [
    {
     "name": "stdout",
     "output_type": "stream",
     "text": [
      "5 [5 6 5 3 4 7 8 7 5 6]\n",
      "14 [3 4 3 1 2 5 6 5 3 4 5 6 5 3 4 7 8 7 5 6]\n",
      "23 [ 1  2  1 -1  0  3  4  3  1  2  3  4  3  1  2  5  6  5  3  4  3  4  3  1\n",
      "  2  5  6  5  3  4  5  6  5  3  4  7  8  7  5  6]\n",
      "32 [-1  0 -1 -3 -2  1  2  1 -1  0  1  2  1 -1  0  3  4  3  1  2  1  2  1 -1\n",
      "  0  3  4  3  1  2  3  4  3  1  2  5  6  5  3  4  1  2  1 -1  0  3  4  3\n",
      "  1  2  3  4  3  1  2  5  6  5  3  4  3  4  3  1  2  5  6  5  3  4  5  6\n",
      "  5  3  4  7  8  7  5  6]\n",
      "41 [-3 -2 -3 -5 -4 -1  0 -1 -3 -2 -1  0 -1 -3 -2  1  2  1 -1  0 -1  0 -1 -3\n",
      " -2  1  2  1 -1  0  1  2  1 -1  0  3  4  3  1  2 -1  0 -1 -3 -2  1  2  1\n",
      " -1  0  1  2  1 -1  0  3  4  3  1  2  1  2  1 -1  0  3  4  3  1  2  3  4\n",
      "  3  1  2  5  6  5  3  4 -1  0 -1 -3 -2  1  2  1 -1  0  1  2  1 -1  0  3\n",
      "  4  3  1  2  1  2  1 -1  0  3  4  3  1  2  3  4  3  1  2  5  6  5  3  4\n",
      "  1  2  1 -1  0  3  4  3  1  2  3  4  3  1  2  5  6  5  3  4  3  4  3  1\n",
      "  2  5  6  5  3  4  5  6  5  3  4  7  8  7  5  6]\n",
      "50 [-5 -4 -5 -7 -6 -3 -2 -3 -5 -4 -3 -2 -3 -5 -4 -1  0 -1 -3 -2 -3 -2 -3 -5\n",
      " -4 -1  0 -1 -3 -2 -1  0 -1 -3 -2  1  2  1 -1  0 -3 -2 -3 -5 -4 -1  0 -1\n",
      " -3 -2 -1  0 -1 -3 -2  1  2  1 -1  0 -1  0 -1 -3 -2  1  2  1 -1  0  1  2\n",
      "  1 -1  0  3  4  3  1  2 -3 -2 -3 -5 -4 -1  0 -1 -3 -2 -1  0 -1 -3 -2  1\n",
      "  2  1 -1  0 -1  0 -1 -3 -2  1  2  1 -1  0  1  2  1 -1  0  3  4  3  1  2\n",
      " -1  0 -1 -3 -2  1  2  1 -1  0  1  2  1 -1  0  3  4  3  1  2  1  2  1 -1\n",
      "  0  3  4  3  1  2  3  4  3  1  2  5  6  5  3  4 -3 -2 -3 -5 -4 -1  0 -1\n",
      " -3 -2 -1  0 -1 -3 -2  1  2  1 -1  0 -1  0 -1 -3 -2  1  2  1 -1  0  1  2\n",
      "  1 -1  0  3  4  3  1  2 -1  0 -1 -3 -2  1  2  1 -1  0  1  2  1 -1  0  3\n",
      "  4  3  1  2  1  2  1 -1  0  3  4  3  1  2  3  4  3  1  2  5  6  5  3  4\n",
      " -1  0 -1 -3 -2  1  2  1 -1  0  1  2  1 -1  0  3  4  3  1  2  1  2  1 -1\n",
      "  0  3  4  3  1  2  3  4  3  1  2  5  6  5  3  4  1  2  1 -1  0  3  4  3\n",
      "  1  2  3  4  3  1  2  5  6  5  3  4  3  4  3  1  2  5  6  5  3  4  5  6\n",
      "  5  3  4  7  8  7  5  6]\n",
      "59 [-7 -6 -7 -9 -8 -5 -4 -5 -7 -6 -5 -4 -5 -7 -6 -3 -2 -3 -5 -4 -5 -4 -5 -7\n",
      " -6 -3 -2 -3 -5 -4 -3 -2 -3 -5 -4 -1  0 -1 -3 -2 -5 -4 -5 -7 -6 -3 -2 -3\n",
      " -5 -4 -3 -2 -3 -5 -4 -1  0 -1 -3 -2 -3 -2 -3 -5 -4 -1  0 -1 -3 -2 -1  0\n",
      " -1 -3 -2  1  2  1 -1  0 -5 -4 -5 -7 -6 -3 -2 -3 -5 -4 -3 -2 -3 -5 -4 -1\n",
      "  0 -1 -3 -2 -3 -2 -3 -5 -4 -1  0 -1 -3 -2 -1  0 -1 -3 -2  1  2  1 -1  0\n",
      " -3 -2 -3 -5 -4 -1  0 -1 -3 -2 -1  0 -1 -3 -2  1  2  1 -1  0 -1  0 -1 -3\n",
      " -2  1  2  1 -1  0  1  2  1 -1  0  3  4  3  1  2 -5 -4 -5 -7 -6 -3 -2 -3\n",
      " -5 -4 -3 -2 -3 -5 -4 -1  0 -1 -3 -2 -3 -2 -3 -5 -4 -1  0 -1 -3 -2 -1  0\n",
      " -1 -3 -2  1  2  1 -1  0 -3 -2 -3 -5 -4 -1  0 -1 -3 -2 -1  0 -1 -3 -2  1\n",
      "  2  1 -1  0 -1  0 -1 -3 -2  1  2  1 -1  0  1  2  1 -1  0  3  4  3  1  2\n",
      " -3 -2 -3 -5 -4 -1  0 -1 -3 -2 -1  0 -1 -3 -2  1  2  1 -1  0 -1  0 -1 -3\n",
      " -2  1  2  1 -1  0  1  2  1 -1  0  3  4  3  1  2 -1  0 -1 -3 -2  1  2  1\n",
      " -1  0  1  2  1 -1  0  3  4  3  1  2  1  2  1 -1  0  3  4  3  1  2  3  4\n",
      "  3  1  2  5  6  5  3  4 -5 -4 -5 -7 -6 -3 -2 -3 -5 -4 -3 -2 -3 -5 -4 -1\n",
      "  0 -1 -3 -2 -3 -2 -3 -5 -4 -1  0 -1 -3 -2 -1  0 -1 -3 -2  1  2  1 -1  0\n",
      " -3 -2 -3 -5 -4 -1  0 -1 -3 -2 -1  0 -1 -3 -2  1  2  1 -1  0 -1  0 -1 -3\n",
      " -2  1  2  1 -1  0  1  2  1 -1  0  3  4  3  1  2 -3 -2 -3 -5 -4 -1  0 -1\n",
      " -3 -2 -1  0 -1 -3 -2  1  2  1 -1  0 -1  0 -1 -3 -2  1  2  1 -1  0  1  2\n",
      "  1 -1  0  3  4  3  1  2 -1  0 -1 -3 -2  1  2  1 -1  0  1  2  1 -1  0  3\n",
      "  4  3  1  2  1  2  1 -1  0  3  4  3  1  2  3  4  3  1  2  5  6  5  3  4\n",
      " -3 -2 -3 -5 -4 -1  0 -1 -3 -2 -1  0 -1 -3 -2  1  2  1 -1  0 -1  0 -1 -3\n",
      " -2  1  2  1 -1  0  1  2  1 -1  0  3  4  3  1  2 -1  0 -1 -3 -2  1  2  1\n",
      " -1  0  1  2  1 -1  0  3  4  3  1  2  1  2  1 -1  0  3  4  3  1  2  3  4\n",
      "  3  1  2  5  6  5  3  4 -1  0 -1 -3 -2  1  2  1 -1  0  1  2  1 -1  0  3\n",
      "  4  3  1  2  1  2  1 -1  0  3  4  3  1  2  3  4  3  1  2  5  6  5  3  4\n",
      "  1  2  1 -1  0  3  4  3  1  2  3  4  3  1  2  5  6  5  3  4  3  4  3  1\n",
      "  2  5  6  5  3  4  5  6  5  3  4  7  8  7  5  6]\n",
      "68 [-9 -8 -9 ...  7  5  6]\n",
      "77 [-11 -10 -11 ...   7   5   6]\n",
      "86 [-13 -12 -13 ...   7   5   6]\n"
     ]
    }
   ],
   "source": [
    "MAX_DAYS = 80\n",
    "\n",
    "fishes = np.array([3,4,3,1,2])\n",
    "\n",
    "days = 0\n",
    "while True:\n",
    "    if days > MAX_DAYS:\n",
    "        break\n",
    "    \n",
    "    max_day = 7 # after max_days + 1 we know that all fish have created a new fish and the fish with the longest timer is now 6\n",
    "    n_fish = len(fishes)\n",
    "    day_diffs = (max_day - fishes)\n",
    "    fishes = np.repeat(6, n_fish) - day_diffs\n",
    "    new_fishes = np.repeat(8, n_fish) - day_diffs\n",
    "    fishes = np.concatenate((fishes, new_fishes))\n",
    "    days += max_day + 1 # state one day after the max day\n",
    "    print(days, fishes)\n",
    "        \n",
    "    "
   ]
  },
  {
   "cell_type": "code",
   "execution_count": 35,
   "id": "2151424e-2bd8-4ec3-a333-d1910fd54bba",
   "metadata": {},
   "outputs": [
    {
     "data": {
      "text/plain": [
       "86"
      ]
     },
     "execution_count": 35,
     "metadata": {},
     "output_type": "execute_result"
    }
   ],
   "source": [
    "days"
   ]
  },
  {
   "cell_type": "code",
   "execution_count": 36,
   "id": "6d592df9-0011-460a-91e3-f35be4f16c0a",
   "metadata": {},
   "outputs": [
    {
     "data": {
      "text/plain": [
       "5120"
      ]
     },
     "execution_count": 36,
     "metadata": {},
     "output_type": "execute_result"
    }
   ],
   "source": [
    "len(fishes)"
   ]
  },
  {
   "cell_type": "code",
   "execution_count": 32,
   "id": "b650238b-ef01-4864-96d3-c690624d6d5c",
   "metadata": {},
   "outputs": [
    {
     "data": {
      "text/plain": [
       "array([1, 0, 1, 2, 3])"
      ]
     },
     "execution_count": 32,
     "metadata": {},
     "output_type": "execute_result"
    }
   ],
   "source": [
    "4 - np.array([3,4,3,2,1])"
   ]
  },
  {
   "cell_type": "code",
   "execution_count": 43,
   "id": "4689855b-740b-4aba-9ab2-8b9e7dae2aaa",
   "metadata": {},
   "outputs": [],
   "source": [
    "from collections import deque, Counter"
   ]
  },
  {
   "cell_type": "code",
   "execution_count": 45,
   "id": "13031ab6-b950-45bb-b76a-47c6bf50edae",
   "metadata": {},
   "outputs": [
    {
     "data": {
      "text/plain": [
       "deque([3, 4, 1, 2])"
      ]
     },
     "execution_count": 45,
     "metadata": {},
     "output_type": "execute_result"
    }
   ],
   "source": [
    "d = deque(Counter([3,4,3,1,2]))\n",
    "d"
   ]
  },
  {
   "cell_type": "code",
   "execution_count": 40,
   "id": "ef4c2466-d5ba-48db-92c2-c981b0c7db4a",
   "metadata": {},
   "outputs": [],
   "source": [
    "d.rotate()"
   ]
  },
  {
   "cell_type": "code",
   "execution_count": 42,
   "id": "6db3fb0e-2f9a-4bcf-88a1-aa0418a868d3",
   "metadata": {},
   "outputs": [],
   "source": [
    "from collections import Counter"
   ]
  },
  {
   "cell_type": "code",
   "execution_count": 53,
   "id": "ff541e9f-4477-4f01-8066-46be50cc7cc5",
   "metadata": {},
   "outputs": [
    {
     "name": "stdout",
     "output_type": "stream",
     "text": [
      "Part 1: 5934\n",
      "Part 2: 26984457539\n"
     ]
    }
   ],
   "source": [
    "from collections import Counter, deque\n",
    "\n",
    "def make_some_fish_babies(starting_counts, days):\n",
    "    d = deque(starting_counts[i] for i in range(9))\n",
    "    for i in range(days):\n",
    "        d.rotate(-1)\n",
    "        d[6] += d[8]\n",
    "    return d\n",
    "\n",
    "\n",
    "data = Counter([3,4,3,1,2])\n",
    "print(f\"Part 1: {sum(make_some_fish_babies(data, 80))}\")\n",
    "print(f\"Part 2: {sum(make_some_fish_babies(data, 256))}\")"
   ]
  },
  {
   "cell_type": "code",
   "execution_count": 54,
   "id": "072b7751-b188-4008-a85a-785fcba0c315",
   "metadata": {},
   "outputs": [
    {
     "name": "stdout",
     "output_type": "stream",
     "text": [
      "Part 1: 360761\n",
      "Part 2: 1632779838045\n"
     ]
    }
   ],
   "source": [
    "from collections import Counter, deque\n",
    "\n",
    "def make_some_fish_babies(starting_counts, days):\n",
    "    d = deque(starting_counts[i] for i in range(9))\n",
    "    for i in range(days):\n",
    "        d.rotate(-1)\n",
    "        d[6] += d[8]\n",
    "    return d\n",
    "\n",
    "\n",
    "data = Counter(input_)\n",
    "print(f\"Part 1: {sum(make_some_fish_babies(data, 80))}\")\n",
    "print(f\"Part 2: {sum(make_some_fish_babies(data, 256))}\")"
   ]
  },
  {
   "cell_type": "code",
   "execution_count": null,
   "id": "ebdf26f5-72f0-47d0-9358-f8268a734ce1",
   "metadata": {},
   "outputs": [],
   "source": []
  }
 ],
 "metadata": {
  "kernelspec": {
   "display_name": "Python 3.9 (aocd)",
   "language": "python",
   "name": "aocd"
  },
  "language_info": {
   "codemirror_mode": {
    "name": "ipython",
    "version": 3
   },
   "file_extension": ".py",
   "mimetype": "text/x-python",
   "name": "python",
   "nbconvert_exporter": "python",
   "pygments_lexer": "ipython3",
   "version": "3.9.7"
  }
 },
 "nbformat": 4,
 "nbformat_minor": 5
}
