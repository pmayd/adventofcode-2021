{
 "cells": [
  {
   "cell_type": "code",
   "execution_count": 73,
   "id": "bff1f7a4-817a-4b50-bdd6-a10082c60bf6",
   "metadata": {},
   "outputs": [],
   "source": [
    "import numpy as np\n",
    "import pandas as pd"
   ]
  },
  {
   "cell_type": "code",
   "execution_count": 33,
   "id": "1f968b99-f9c9-4417-9b2b-7d526033f5be",
   "metadata": {},
   "outputs": [],
   "source": [
    "input_ = np.array(list(map(list, open(\"day09.txt\", \"r\", encoding=\"utf-16\").read().strip().splitlines())), dtype=int)"
   ]
  },
  {
   "cell_type": "code",
   "execution_count": 34,
   "id": "f3d19e16-45f9-421b-b326-fba5fa8dd828",
   "metadata": {
    "tags": []
   },
   "outputs": [
    {
     "data": {
      "text/plain": [
       "array([[5, 6, 7, ..., 4, 5, 6],\n",
       "       [4, 5, 5, ..., 3, 4, 7],\n",
       "       [3, 2, 4, ..., 3, 5, 6],\n",
       "       ...,\n",
       "       [9, 5, 4, ..., 2, 3, 4],\n",
       "       [7, 6, 8, ..., 3, 4, 5],\n",
       "       [8, 7, 9, ..., 5, 6, 7]])"
      ]
     },
     "execution_count": 34,
     "metadata": {},
     "output_type": "execute_result"
    }
   ],
   "source": [
    "input_"
   ]
  },
  {
   "cell_type": "code",
   "execution_count": 35,
   "id": "c8fd4303-02ed-45f0-8ffd-f7c71b768014",
   "metadata": {},
   "outputs": [],
   "source": [
    "demo_input = \"\"\"2199943210\n",
    "3987894921\n",
    "9856789892\n",
    "8767896789\n",
    "9899965678\"\"\".splitlines()\n",
    "demo_input = np.array(list(map(list, demo_input)), dtype=int)"
   ]
  },
  {
   "cell_type": "code",
   "execution_count": 36,
   "id": "f19e3fd4-1aff-49e2-9d84-35d8006c9032",
   "metadata": {},
   "outputs": [
    {
     "data": {
      "text/plain": [
       "array([[2, 1, 9, 9, 9, 4, 3, 2, 1, 0],\n",
       "       [3, 9, 8, 7, 8, 9, 4, 9, 2, 1],\n",
       "       [9, 8, 5, 6, 7, 8, 9, 8, 9, 2],\n",
       "       [8, 7, 6, 7, 8, 9, 6, 7, 8, 9],\n",
       "       [9, 8, 9, 9, 9, 6, 5, 6, 7, 8]])"
      ]
     },
     "execution_count": 36,
     "metadata": {},
     "output_type": "execute_result"
    }
   ],
   "source": [
    "demo_input"
   ]
  },
  {
   "cell_type": "code",
   "execution_count": 37,
   "id": "5935ccee-456b-4afb-881c-86df41e2f666",
   "metadata": {},
   "outputs": [],
   "source": [
    "def get_window(input_, x, y):\n",
    "    n_rows, n_cols = input_.shape\n",
    "    window = []\n",
    "    if x > 0:\n",
    "        window.append(input_[x-1,y])\n",
    "    if x < n_rows - 1:\n",
    "        window.append(input_[x+1,y])\n",
    "    if y > 0:\n",
    "        window.append(input_[x,y-1])\n",
    "    if y < n_cols - 1:\n",
    "        window.append(input_[x,y+1])\n",
    "    return window\n",
    "    "
   ]
  },
  {
   "cell_type": "code",
   "execution_count": 53,
   "id": "6ee5b5e8-5550-4472-98b6-b13d7c99202f",
   "metadata": {},
   "outputs": [],
   "source": [
    "low_points = []\n",
    "n_rows, n_cols = demo_input.shape\n",
    "for x in range(n_rows):\n",
    "    for y in range(n_cols):\n",
    "        point = demo_input[x,y]\n",
    "        if min(get_window(demo_input, x, y)) > point:\n",
    "            low_points.append((x,y))\n",
    "            "
   ]
  },
  {
   "cell_type": "code",
   "execution_count": 55,
   "id": "dfa64e3d-baf8-4802-872a-b2b355f1243e",
   "metadata": {},
   "outputs": [
    {
     "name": "stdout",
     "output_type": "stream",
     "text": [
      "[(0, 1), (0, 9), (2, 2), (4, 6)]\n"
     ]
    },
    {
     "data": {
      "text/plain": [
       "4"
      ]
     },
     "execution_count": 55,
     "metadata": {},
     "output_type": "execute_result"
    }
   ],
   "source": [
    "print(low_points)\n",
    "len(low_points)"
   ]
  },
  {
   "cell_type": "code",
   "execution_count": 57,
   "id": "d5c4a680-29cb-495e-9e4d-472d8d7abba1",
   "metadata": {},
   "outputs": [
    {
     "data": {
      "text/plain": [
       "15"
      ]
     },
     "execution_count": 57,
     "metadata": {},
     "output_type": "execute_result"
    }
   ],
   "source": [
    "sum(demo_input[x,y] + 1 for x,y in low_points)"
   ]
  },
  {
   "cell_type": "code",
   "execution_count": 58,
   "id": "ae88f1ae-93de-4870-ad6a-4bd2253c5974",
   "metadata": {},
   "outputs": [],
   "source": [
    "low_points = []\n",
    "n_rows, n_cols = input_.shape\n",
    "for x in range(n_rows):\n",
    "    for y in range(n_cols):\n",
    "        point = input_[x,y]\n",
    "        if min(get_window(input_, x, y)) > point:\n",
    "            low_points.append((x,y))"
   ]
  },
  {
   "cell_type": "code",
   "execution_count": 59,
   "id": "bb589ba9-9aea-4185-b7cc-10f5bc93ea54",
   "metadata": {},
   "outputs": [
    {
     "data": {
      "text/plain": [
       "217"
      ]
     },
     "execution_count": 59,
     "metadata": {},
     "output_type": "execute_result"
    }
   ],
   "source": [
    "len(low_points)"
   ]
  },
  {
   "cell_type": "code",
   "execution_count": 61,
   "id": "60a746aa-dae1-44f4-b533-ac2c660f223d",
   "metadata": {},
   "outputs": [
    {
     "data": {
      "text/plain": [
       "498"
      ]
     },
     "execution_count": 61,
     "metadata": {},
     "output_type": "execute_result"
    }
   ],
   "source": [
    "sum(input_[x,y] + 1 for x,y in low_points)"
   ]
  },
  {
   "cell_type": "markdown",
   "id": "4e31451c-0adc-4f52-b817-c11f7605f095",
   "metadata": {},
   "source": [
    "Part Two"
   ]
  },
  {
   "cell_type": "code",
   "execution_count": 65,
   "id": "69586c5d-69bb-4fcf-99e7-9d411334376b",
   "metadata": {},
   "outputs": [],
   "source": [
    "def find_basin(input_, low_point):\n",
    "    n_rows, n_cols = input_.shape\n",
    "    x, y = low_point\n",
    "    basin = [(x,y)]\n",
    "    searchable_area = [(x,y)]\n",
    "    while searchable_area:\n",
    "        x, y = searchable_area.pop()\n",
    "        \n",
    "        if x > 0:\n",
    "            new_point = (x-1,y)\n",
    "            if input_[new_point] < 9 and new_point not in basin:\n",
    "                basin.append(new_point)\n",
    "                searchable_area.append(new_point)\n",
    "                \n",
    "        if x < n_rows - 1:\n",
    "            new_point = (x+1,y)\n",
    "            if input_[new_point] < 9 and new_point not in basin:\n",
    "                basin.append(new_point)\n",
    "                searchable_area.append(new_point)\n",
    "                \n",
    "        if y > 0:\n",
    "            new_point = (x,y-1)\n",
    "            if input_[new_point] < 9 and new_point not in basin:\n",
    "                basin.append(new_point)\n",
    "                searchable_area.append(new_point)\n",
    "                \n",
    "        if y < n_cols - 1:\n",
    "            new_point = (x,y+1)\n",
    "            if input_[new_point] < 9 and new_point not in basin:\n",
    "                basin.append(new_point)\n",
    "                searchable_area.append(new_point)\n",
    "                \n",
    "    return basin       \n",
    "    \n",
    "    "
   ]
  },
  {
   "cell_type": "code",
   "execution_count": 67,
   "id": "65147224-9c07-4d3c-979c-b8df4bdd6cce",
   "metadata": {},
   "outputs": [
    {
     "data": {
      "text/plain": [
       "[(0, 9), (1, 9), (0, 8), (1, 8), (0, 7), (0, 6), (1, 6), (0, 5), (2, 9)]"
      ]
     },
     "execution_count": 67,
     "metadata": {},
     "output_type": "execute_result"
    }
   ],
   "source": [
    "find_basin(demo_input, (0, 9))"
   ]
  },
  {
   "cell_type": "code",
   "execution_count": 68,
   "id": "1867cf29-0e4b-44d9-a918-79905e19c458",
   "metadata": {},
   "outputs": [],
   "source": [
    "low_points = []\n",
    "n_rows, n_cols = demo_input.shape\n",
    "for x in range(n_rows):\n",
    "    for y in range(n_cols):\n",
    "        point = demo_input[x,y]\n",
    "        if min(get_window(demo_input, x, y)) > point:\n",
    "            low_points.append((x,y))\n",
    "            \n",
    "basins = {}\n",
    "for low_point in low_points:\n",
    "    basins[low_point] = find_basin(demo_input, low_point)"
   ]
  },
  {
   "cell_type": "code",
   "execution_count": 77,
   "id": "084da10e-bc62-41ee-8635-a22f7618eb49",
   "metadata": {},
   "outputs": [
    {
     "data": {
      "text/plain": [
       "1134"
      ]
     },
     "execution_count": 77,
     "metadata": {},
     "output_type": "execute_result"
    }
   ],
   "source": [
    "np.prod([len(basin) for basin in sorted(basins.values(), key=len)[-3:]])"
   ]
  },
  {
   "cell_type": "code",
   "execution_count": 78,
   "id": "1ff7d6df-dea0-454f-96ca-c6019af5f23a",
   "metadata": {},
   "outputs": [],
   "source": [
    "low_points = []\n",
    "n_rows, n_cols = input_.shape\n",
    "for x in range(n_rows):\n",
    "    for y in range(n_cols):\n",
    "        point = input_[x,y]\n",
    "        if min(get_window(input_, x, y)) > point:\n",
    "            low_points.append((x,y))\n",
    "            \n",
    "basins = {}\n",
    "for low_point in low_points:\n",
    "    basins[low_point] = find_basin(input_, low_point)"
   ]
  },
  {
   "cell_type": "code",
   "execution_count": 79,
   "id": "6ce33bfe-ed7f-4530-99fc-3c83bf619d70",
   "metadata": {},
   "outputs": [
    {
     "data": {
      "text/plain": [
       "1071000"
      ]
     },
     "execution_count": 79,
     "metadata": {},
     "output_type": "execute_result"
    }
   ],
   "source": [
    "np.prod([len(basin) for basin in sorted(basins.values(), key=len)[-3:]])"
   ]
  },
  {
   "cell_type": "code",
   "execution_count": null,
   "id": "fb338ed1-602e-4174-9cb0-06e495a56982",
   "metadata": {},
   "outputs": [],
   "source": []
  }
 ],
 "metadata": {
  "kernelspec": {
   "display_name": "Python 3.9 (aocd)",
   "language": "python",
   "name": "aocd"
  },
  "language_info": {
   "codemirror_mode": {
    "name": "ipython",
    "version": 3
   },
   "file_extension": ".py",
   "mimetype": "text/x-python",
   "name": "python",
   "nbconvert_exporter": "python",
   "pygments_lexer": "ipython3",
   "version": "3.9.7"
  }
 },
 "nbformat": 4,
 "nbformat_minor": 5
}
