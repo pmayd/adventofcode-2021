{
 "cells": [
  {
   "cell_type": "code",
   "execution_count": 104,
   "id": "bc52f392-cebe-4b21-8aec-884ce17b7bee",
   "metadata": {},
   "outputs": [],
   "source": [
    "import numpy as np\n",
    "import pandas as pd\n",
    "from dataclasses import dataclass, field\n",
    "from collections import Counter"
   ]
  },
  {
   "cell_type": "code",
   "execution_count": 4,
   "id": "75dc4481-e18f-4012-9c21-47b1ab1930e0",
   "metadata": {},
   "outputs": [],
   "source": [
    "input_ = open(\"day12.txt\", \"r\", encoding=\"utf-16\").read().strip().splitlines()"
   ]
  },
  {
   "cell_type": "code",
   "execution_count": 5,
   "id": "88689c4a-1884-4c75-b796-e0efe6bae6a5",
   "metadata": {},
   "outputs": [
    {
     "data": {
      "text/plain": [
       "['vp-BY',\n",
       " 'ui-oo',\n",
       " 'kk-IY',\n",
       " 'ij-vp',\n",
       " 'oo-start',\n",
       " 'SP-ij',\n",
       " 'kg-uj',\n",
       " 'ij-UH',\n",
       " 'SP-end',\n",
       " 'oo-IY',\n",
       " 'SP-kk',\n",
       " 'SP-vp',\n",
       " 'ui-ij',\n",
       " 'UH-ui',\n",
       " 'ij-IY',\n",
       " 'start-ui',\n",
       " 'IY-ui',\n",
       " 'uj-ui',\n",
       " 'kk-oo',\n",
       " 'IY-start',\n",
       " 'end-vp',\n",
       " 'uj-UH',\n",
       " 'ij-kk',\n",
       " 'UH-end',\n",
       " 'UH-kk']"
      ]
     },
     "execution_count": 5,
     "metadata": {},
     "output_type": "execute_result"
    }
   ],
   "source": [
    "input_"
   ]
  },
  {
   "cell_type": "code",
   "execution_count": 6,
   "id": "92aeb718-105d-43d1-b1c4-2069cca8bd91",
   "metadata": {},
   "outputs": [
    {
     "data": {
      "text/plain": [
       "['start-A', 'start-b', 'A-c', 'A-b', 'b-d', 'A-end', 'b-end']"
      ]
     },
     "execution_count": 6,
     "metadata": {},
     "output_type": "execute_result"
    }
   ],
   "source": [
    "demo_small = \"\"\"start-A\n",
    "start-b\n",
    "A-c\n",
    "A-b\n",
    "b-d\n",
    "A-end\n",
    "b-end\"\"\".splitlines()\n",
    "demo_small"
   ]
  },
  {
   "cell_type": "code",
   "execution_count": 8,
   "id": "8691737a-bc7a-46e8-9a37-97b800c8edff",
   "metadata": {},
   "outputs": [
    {
     "data": {
      "text/plain": [
       "['dc-end',\n",
       " 'HN-start',\n",
       " 'start-kj',\n",
       " 'dc-start',\n",
       " 'dc-HN',\n",
       " 'LN-dc',\n",
       " 'HN-end',\n",
       " 'kj-sa',\n",
       " 'kj-HN',\n",
       " 'kj-dc']"
      ]
     },
     "execution_count": 8,
     "metadata": {},
     "output_type": "execute_result"
    }
   ],
   "source": [
    "demo_middle = \"\"\"dc-end\n",
    "HN-start\n",
    "start-kj\n",
    "dc-start\n",
    "dc-HN\n",
    "LN-dc\n",
    "HN-end\n",
    "kj-sa\n",
    "kj-HN\n",
    "kj-dc\"\"\".splitlines()\n",
    "demo_middle"
   ]
  },
  {
   "cell_type": "code",
   "execution_count": 78,
   "id": "bba2090a-8514-409b-9078-bdce4aff2694",
   "metadata": {},
   "outputs": [
    {
     "data": {
      "text/plain": [
       "['fs-end',\n",
       " 'he-DX',\n",
       " 'fs-he',\n",
       " 'start-DX',\n",
       " 'pj-DX',\n",
       " 'end-zg',\n",
       " 'zg-sl',\n",
       " 'zg-pj',\n",
       " 'pj-he',\n",
       " 'RW-he',\n",
       " 'fs-DX',\n",
       " 'pj-RW',\n",
       " 'zg-RW',\n",
       " 'start-pj',\n",
       " 'he-WI',\n",
       " 'zg-he',\n",
       " 'pj-fs',\n",
       " 'start-RW']"
      ]
     },
     "execution_count": 78,
     "metadata": {},
     "output_type": "execute_result"
    }
   ],
   "source": [
    "demo_large=\"\"\"fs-end\n",
    "he-DX\n",
    "fs-he\n",
    "start-DX\n",
    "pj-DX\n",
    "end-zg\n",
    "zg-sl\n",
    "zg-pj\n",
    "pj-he\n",
    "RW-he\n",
    "fs-DX\n",
    "pj-RW\n",
    "zg-RW\n",
    "start-pj\n",
    "he-WI\n",
    "zg-he\n",
    "pj-fs\n",
    "start-RW\"\"\".splitlines()\n",
    "demo_large"
   ]
  },
  {
   "cell_type": "code",
   "execution_count": 88,
   "id": "628b9639-b58c-43b9-b569-b4202019c502",
   "metadata": {},
   "outputs": [],
   "source": [
    "@dataclass\n",
    "class Cave:\n",
    "    name: str\n",
    "    is_start: bool\n",
    "    is_end: bool\n",
    "    is_big: bool\n",
    "    connections: set[str] = field(default_factory=set)\n",
    "    "
   ]
  },
  {
   "cell_type": "code",
   "execution_count": 89,
   "id": "55d08a0c-3435-4e25-be52-2d7869cb3ed3",
   "metadata": {},
   "outputs": [],
   "source": [
    "def build_caves(input_) -> dict[str, Cave]:\n",
    "    caves = {}\n",
    "    for line in input_:\n",
    "        for cave in line.split(\"-\"):\n",
    "            if cave not in caves:\n",
    "                caves[cave] = Cave(\n",
    "                    name=cave,\n",
    "                    is_start=True if cave == \"start\" else False,\n",
    "                    is_end=True if cave == \"end\" else False,\n",
    "                    is_big=True if cave.isupper() else False,\n",
    "                )\n",
    "                \n",
    "        left_cave, right_cave = line.split(\"-\")\n",
    "        caves[left_cave].connections.add(right_cave)\n",
    "        caves[right_cave].connections.add(left_cave)\n",
    "        \n",
    "    return caves"
   ]
  },
  {
   "cell_type": "code",
   "execution_count": 80,
   "id": "00aa951f-c83c-409f-9a82-083d1b4fba5a",
   "metadata": {},
   "outputs": [
    {
     "data": {
      "text/plain": [
       "{'start': Cave(name='start', is_start=True, is_end=False, is_big=False, connections={'b', 'A'}),\n",
       " 'A': Cave(name='A', is_start=False, is_end=False, is_big=True, connections={'end', 'start', 'b', 'c'}),\n",
       " 'b': Cave(name='b', is_start=False, is_end=False, is_big=False, connections={'end', 'start', 'd', 'A'}),\n",
       " 'c': Cave(name='c', is_start=False, is_end=False, is_big=False, connections={'A'}),\n",
       " 'd': Cave(name='d', is_start=False, is_end=False, is_big=False, connections={'b'}),\n",
       " 'end': Cave(name='end', is_start=False, is_end=True, is_big=False, connections={'b', 'A'})}"
      ]
     },
     "execution_count": 80,
     "metadata": {},
     "output_type": "execute_result"
    }
   ],
   "source": [
    "build_caves(demo_small)"
   ]
  },
  {
   "cell_type": "code",
   "execution_count": 125,
   "id": "f7229703-871f-4ed6-abc0-ca774fce8055",
   "metadata": {},
   "outputs": [],
   "source": [
    "def find_all_paths(caves: dict[str, Cave]) -> list[str]:\n",
    "    paths = []\n",
    "    start = caves[\"start\"]\n",
    "    incomplete_paths = [[start.name, cave] for cave in start.connections]\n",
    "    while incomplete_paths:\n",
    "        current_path = incomplete_paths.pop()\n",
    "        last_cave = caves[current_path[-1]]\n",
    "        for cave in last_cave.connections:\n",
    "            cave = caves[cave]\n",
    "            if cave.is_start:\n",
    "                continue\n",
    "                \n",
    "            if cave.is_end:\n",
    "                paths.append([*current_path, cave.name])      \n",
    "            elif cave.is_big:\n",
    "                incomplete_paths.append([*current_path, cave.name])\n",
    "            elif not cave.is_big:\n",
    "                small_caves = Counter(c for c in current_path[1:] if not caves[c].is_big)\n",
    "                small_caves_visited = 0 if not small_caves else small_caves.most_common(1)[0][1]\n",
    "                if cave.name not in current_path or small_caves_visited < 2:\n",
    "                    incomplete_paths.append([*current_path, cave.name])    \n",
    "    \n",
    "    return paths       \n",
    "    "
   ]
  },
  {
   "cell_type": "code",
   "execution_count": 126,
   "id": "a33033cf-aae0-487e-88ec-3ba8bf497449",
   "metadata": {},
   "outputs": [
    {
     "name": "stdout",
     "output_type": "stream",
     "text": [
      "['start', 'A', 'end']\n",
      "['start', 'A', 'c', 'A', 'end']\n",
      "['start', 'A', 'c', 'A', 'c', 'A', 'end']\n",
      "['start', 'A', 'c', 'A', 'c', 'A', 'b', 'end']\n",
      "['start', 'A', 'c', 'A', 'c', 'A', 'b', 'A', 'end']\n",
      "['start', 'A', 'c', 'A', 'b', 'end']\n",
      "['start', 'A', 'c', 'A', 'b', 'A', 'end']\n",
      "['start', 'A', 'c', 'A', 'b', 'A', 'c', 'A', 'end']\n",
      "['start', 'A', 'c', 'A', 'b', 'A', 'b', 'end']\n",
      "['start', 'A', 'c', 'A', 'b', 'A', 'b', 'A', 'end']\n",
      "['start', 'A', 'c', 'A', 'b', 'd', 'b', 'end']\n",
      "['start', 'A', 'c', 'A', 'b', 'd', 'b', 'A', 'end']\n",
      "['start', 'A', 'b', 'end']\n",
      "['start', 'A', 'b', 'A', 'end']\n",
      "['start', 'A', 'b', 'A', 'c', 'A', 'end']\n",
      "['start', 'A', 'b', 'A', 'c', 'A', 'c', 'A', 'end']\n",
      "['start', 'A', 'b', 'A', 'c', 'A', 'b', 'end']\n",
      "['start', 'A', 'b', 'A', 'c', 'A', 'b', 'A', 'end']\n",
      "['start', 'A', 'b', 'A', 'b', 'end']\n",
      "['start', 'A', 'b', 'A', 'b', 'A', 'end']\n",
      "['start', 'A', 'b', 'A', 'b', 'A', 'c', 'A', 'end']\n",
      "['start', 'A', 'b', 'd', 'b', 'end']\n",
      "['start', 'A', 'b', 'd', 'b', 'A', 'end']\n",
      "['start', 'A', 'b', 'd', 'b', 'A', 'c', 'A', 'end']\n",
      "['start', 'b', 'end']\n",
      "['start', 'b', 'A', 'end']\n",
      "['start', 'b', 'A', 'c', 'A', 'end']\n",
      "['start', 'b', 'A', 'c', 'A', 'c', 'A', 'end']\n",
      "['start', 'b', 'A', 'c', 'A', 'b', 'end']\n",
      "['start', 'b', 'A', 'c', 'A', 'b', 'A', 'end']\n",
      "['start', 'b', 'A', 'b', 'end']\n",
      "['start', 'b', 'A', 'b', 'A', 'end']\n",
      "['start', 'b', 'A', 'b', 'A', 'c', 'A', 'end']\n",
      "['start', 'b', 'd', 'b', 'end']\n",
      "['start', 'b', 'd', 'b', 'A', 'end']\n",
      "['start', 'b', 'd', 'b', 'A', 'c', 'A', 'end']\n"
     ]
    },
    {
     "data": {
      "text/plain": [
       "36"
      ]
     },
     "execution_count": 126,
     "metadata": {},
     "output_type": "execute_result"
    }
   ],
   "source": [
    "all_paths = find_all_paths(build_caves(demo_small))\n",
    "for path in all_paths:\n",
    "    print(path)\n",
    "len(all_paths)"
   ]
  },
  {
   "cell_type": "code",
   "execution_count": 83,
   "id": "e52e3968-9926-4e19-9032-52072c99eb7a",
   "metadata": {},
   "outputs": [
    {
     "name": "stdout",
     "output_type": "stream",
     "text": [
      "['start', 'dc', 'end']\n",
      "['start', 'dc', 'HN', 'end']\n",
      "['start', 'dc', 'HN', 'kj', 'HN', 'end']\n",
      "['start', 'dc', 'kj', 'HN', 'end']\n",
      "['start', 'HN', 'end']\n",
      "['start', 'HN', 'dc', 'end']\n",
      "['start', 'HN', 'dc', 'HN', 'end']\n",
      "['start', 'HN', 'dc', 'HN', 'kj', 'HN', 'end']\n",
      "['start', 'HN', 'dc', 'kj', 'HN', 'end']\n",
      "['start', 'HN', 'kj', 'HN', 'end']\n",
      "['start', 'HN', 'kj', 'HN', 'dc', 'end']\n",
      "['start', 'HN', 'kj', 'HN', 'dc', 'HN', 'end']\n",
      "['start', 'HN', 'kj', 'dc', 'end']\n",
      "['start', 'HN', 'kj', 'dc', 'HN', 'end']\n",
      "['start', 'kj', 'HN', 'end']\n",
      "['start', 'kj', 'HN', 'dc', 'end']\n",
      "['start', 'kj', 'HN', 'dc', 'HN', 'end']\n",
      "['start', 'kj', 'dc', 'end']\n",
      "['start', 'kj', 'dc', 'HN', 'end']\n"
     ]
    },
    {
     "data": {
      "text/plain": [
       "19"
      ]
     },
     "execution_count": 83,
     "metadata": {},
     "output_type": "execute_result"
    }
   ],
   "source": [
    "all_paths = find_all_paths(build_caves(demo_middle))\n",
    "for path in all_paths:\n",
    "    print(path)\n",
    "len(all_paths)"
   ]
  },
  {
   "cell_type": "code",
   "execution_count": 86,
   "id": "9a85300c-84f9-405f-b2dd-fabb02086c8d",
   "metadata": {
    "tags": []
   },
   "outputs": [
    {
     "name": "stdout",
     "output_type": "stream",
     "text": [
      "['start', 'RW', 'zg', 'end']\n",
      "['start', 'RW', 'zg', 'RW', 'pj', 'fs', 'end']\n",
      "['start', 'RW', 'zg', 'RW', 'pj', 'RW', 'he', 'fs', 'end']\n",
      "['start', 'RW', 'zg', 'RW', 'pj', 'RW', 'he', 'DX', 'fs', 'end']\n",
      "['start', 'RW', 'zg', 'RW', 'pj', 'DX', 'he', 'fs', 'end']\n",
      "['start', 'RW', 'zg', 'RW', 'pj', 'DX', 'he', 'DX', 'fs', 'end']\n",
      "['start', 'RW', 'zg', 'RW', 'pj', 'DX', 'fs', 'end']\n",
      "['start', 'RW', 'zg', 'RW', 'pj', 'he', 'fs', 'end']\n",
      "['start', 'RW', 'zg', 'RW', 'pj', 'he', 'DX', 'fs', 'end']\n",
      "['start', 'RW', 'zg', 'RW', 'he', 'fs', 'end']\n",
      "['start', 'RW', 'zg', 'RW', 'he', 'RW', 'pj', 'fs', 'end']\n",
      "['start', 'RW', 'zg', 'RW', 'he', 'RW', 'pj', 'DX', 'fs', 'end']\n",
      "['start', 'RW', 'zg', 'RW', 'he', 'pj', 'fs', 'end']\n",
      "['start', 'RW', 'zg', 'RW', 'he', 'pj', 'DX', 'fs', 'end']\n",
      "['start', 'RW', 'zg', 'RW', 'he', 'DX', 'pj', 'fs', 'end']\n",
      "['start', 'RW', 'zg', 'RW', 'he', 'DX', 'pj', 'DX', 'fs', 'end']\n",
      "['start', 'RW', 'zg', 'RW', 'he', 'DX', 'fs', 'end']\n",
      "['start', 'RW', 'zg', 'pj', 'fs', 'end']\n",
      "['start', 'RW', 'zg', 'pj', 'RW', 'he', 'fs', 'end']\n",
      "['start', 'RW', 'zg', 'pj', 'RW', 'he', 'DX', 'fs', 'end']\n",
      "['start', 'RW', 'zg', 'pj', 'DX', 'he', 'fs', 'end']\n",
      "['start', 'RW', 'zg', 'pj', 'DX', 'he', 'DX', 'fs', 'end']\n",
      "['start', 'RW', 'zg', 'pj', 'DX', 'fs', 'end']\n",
      "['start', 'RW', 'zg', 'pj', 'he', 'fs', 'end']\n",
      "['start', 'RW', 'zg', 'pj', 'he', 'DX', 'fs', 'end']\n",
      "['start', 'RW', 'zg', 'he', 'fs', 'end']\n",
      "['start', 'RW', 'zg', 'he', 'RW', 'pj', 'fs', 'end']\n",
      "['start', 'RW', 'zg', 'he', 'RW', 'pj', 'DX', 'fs', 'end']\n",
      "['start', 'RW', 'zg', 'he', 'pj', 'fs', 'end']\n",
      "['start', 'RW', 'zg', 'he', 'pj', 'DX', 'fs', 'end']\n",
      "['start', 'RW', 'zg', 'he', 'DX', 'pj', 'fs', 'end']\n",
      "['start', 'RW', 'zg', 'he', 'DX', 'pj', 'DX', 'fs', 'end']\n",
      "['start', 'RW', 'zg', 'he', 'DX', 'fs', 'end']\n",
      "['start', 'RW', 'pj', 'fs', 'end']\n",
      "['start', 'RW', 'pj', 'fs', 'he', 'zg', 'end']\n",
      "['start', 'RW', 'pj', 'fs', 'he', 'RW', 'zg', 'end']\n",
      "['start', 'RW', 'pj', 'fs', 'DX', 'he', 'zg', 'end']\n",
      "['start', 'RW', 'pj', 'fs', 'DX', 'he', 'RW', 'zg', 'end']\n",
      "['start', 'RW', 'pj', 'zg', 'end']\n",
      "['start', 'RW', 'pj', 'zg', 'RW', 'he', 'fs', 'end']\n",
      "['start', 'RW', 'pj', 'zg', 'RW', 'he', 'DX', 'fs', 'end']\n",
      "['start', 'RW', 'pj', 'zg', 'he', 'fs', 'end']\n",
      "['start', 'RW', 'pj', 'zg', 'he', 'DX', 'fs', 'end']\n",
      "['start', 'RW', 'pj', 'RW', 'zg', 'end']\n",
      "['start', 'RW', 'pj', 'RW', 'zg', 'RW', 'he', 'fs', 'end']\n",
      "['start', 'RW', 'pj', 'RW', 'zg', 'RW', 'he', 'DX', 'fs', 'end']\n",
      "['start', 'RW', 'pj', 'RW', 'zg', 'he', 'fs', 'end']\n",
      "['start', 'RW', 'pj', 'RW', 'zg', 'he', 'DX', 'fs', 'end']\n",
      "['start', 'RW', 'pj', 'RW', 'he', 'fs', 'end']\n",
      "['start', 'RW', 'pj', 'RW', 'he', 'zg', 'end']\n",
      "['start', 'RW', 'pj', 'RW', 'he', 'RW', 'zg', 'end']\n",
      "['start', 'RW', 'pj', 'RW', 'he', 'DX', 'fs', 'end']\n",
      "['start', 'RW', 'pj', 'DX', 'he', 'fs', 'end']\n",
      "['start', 'RW', 'pj', 'DX', 'he', 'zg', 'end']\n",
      "['start', 'RW', 'pj', 'DX', 'he', 'RW', 'zg', 'end']\n",
      "['start', 'RW', 'pj', 'DX', 'he', 'DX', 'fs', 'end']\n",
      "['start', 'RW', 'pj', 'DX', 'fs', 'end']\n",
      "['start', 'RW', 'pj', 'DX', 'fs', 'he', 'zg', 'end']\n",
      "['start', 'RW', 'pj', 'DX', 'fs', 'he', 'RW', 'zg', 'end']\n",
      "['start', 'RW', 'pj', 'DX', 'fs', 'DX', 'he', 'zg', 'end']\n",
      "['start', 'RW', 'pj', 'DX', 'fs', 'DX', 'he', 'RW', 'zg', 'end']\n",
      "['start', 'RW', 'pj', 'he', 'fs', 'end']\n",
      "['start', 'RW', 'pj', 'he', 'zg', 'end']\n",
      "['start', 'RW', 'pj', 'he', 'RW', 'zg', 'end']\n",
      "['start', 'RW', 'pj', 'he', 'DX', 'fs', 'end']\n",
      "['start', 'RW', 'he', 'fs', 'end']\n",
      "['start', 'RW', 'he', 'fs', 'pj', 'zg', 'end']\n",
      "['start', 'RW', 'he', 'fs', 'pj', 'RW', 'zg', 'end']\n",
      "['start', 'RW', 'he', 'fs', 'DX', 'pj', 'zg', 'end']\n",
      "['start', 'RW', 'he', 'fs', 'DX', 'pj', 'RW', 'zg', 'end']\n",
      "['start', 'RW', 'he', 'zg', 'end']\n",
      "['start', 'RW', 'he', 'zg', 'RW', 'pj', 'fs', 'end']\n",
      "['start', 'RW', 'he', 'zg', 'RW', 'pj', 'DX', 'fs', 'end']\n",
      "['start', 'RW', 'he', 'zg', 'pj', 'fs', 'end']\n",
      "['start', 'RW', 'he', 'zg', 'pj', 'DX', 'fs', 'end']\n",
      "['start', 'RW', 'he', 'RW', 'zg', 'end']\n",
      "['start', 'RW', 'he', 'RW', 'zg', 'RW', 'pj', 'fs', 'end']\n",
      "['start', 'RW', 'he', 'RW', 'zg', 'RW', 'pj', 'DX', 'fs', 'end']\n",
      "['start', 'RW', 'he', 'RW', 'zg', 'pj', 'fs', 'end']\n",
      "['start', 'RW', 'he', 'RW', 'zg', 'pj', 'DX', 'fs', 'end']\n",
      "['start', 'RW', 'he', 'RW', 'pj', 'fs', 'end']\n",
      "['start', 'RW', 'he', 'RW', 'pj', 'zg', 'end']\n",
      "['start', 'RW', 'he', 'RW', 'pj', 'RW', 'zg', 'end']\n",
      "['start', 'RW', 'he', 'RW', 'pj', 'DX', 'fs', 'end']\n",
      "['start', 'RW', 'he', 'pj', 'fs', 'end']\n",
      "['start', 'RW', 'he', 'pj', 'zg', 'end']\n",
      "['start', 'RW', 'he', 'pj', 'RW', 'zg', 'end']\n",
      "['start', 'RW', 'he', 'pj', 'DX', 'fs', 'end']\n",
      "['start', 'RW', 'he', 'DX', 'pj', 'fs', 'end']\n",
      "['start', 'RW', 'he', 'DX', 'pj', 'zg', 'end']\n",
      "['start', 'RW', 'he', 'DX', 'pj', 'RW', 'zg', 'end']\n",
      "['start', 'RW', 'he', 'DX', 'pj', 'DX', 'fs', 'end']\n",
      "['start', 'RW', 'he', 'DX', 'fs', 'end']\n",
      "['start', 'RW', 'he', 'DX', 'fs', 'pj', 'zg', 'end']\n",
      "['start', 'RW', 'he', 'DX', 'fs', 'pj', 'RW', 'zg', 'end']\n",
      "['start', 'RW', 'he', 'DX', 'fs', 'DX', 'pj', 'zg', 'end']\n",
      "['start', 'RW', 'he', 'DX', 'fs', 'DX', 'pj', 'RW', 'zg', 'end']\n",
      "['start', 'pj', 'fs', 'end']\n",
      "['start', 'pj', 'fs', 'he', 'zg', 'end']\n",
      "['start', 'pj', 'fs', 'he', 'RW', 'zg', 'end']\n",
      "['start', 'pj', 'fs', 'DX', 'he', 'zg', 'end']\n",
      "['start', 'pj', 'fs', 'DX', 'he', 'RW', 'zg', 'end']\n",
      "['start', 'pj', 'zg', 'end']\n",
      "['start', 'pj', 'zg', 'RW', 'he', 'fs', 'end']\n",
      "['start', 'pj', 'zg', 'RW', 'he', 'DX', 'fs', 'end']\n",
      "['start', 'pj', 'zg', 'he', 'fs', 'end']\n",
      "['start', 'pj', 'zg', 'he', 'DX', 'fs', 'end']\n",
      "['start', 'pj', 'RW', 'zg', 'end']\n",
      "['start', 'pj', 'RW', 'zg', 'RW', 'he', 'fs', 'end']\n",
      "['start', 'pj', 'RW', 'zg', 'RW', 'he', 'DX', 'fs', 'end']\n",
      "['start', 'pj', 'RW', 'zg', 'he', 'fs', 'end']\n",
      "['start', 'pj', 'RW', 'zg', 'he', 'DX', 'fs', 'end']\n",
      "['start', 'pj', 'RW', 'he', 'fs', 'end']\n",
      "['start', 'pj', 'RW', 'he', 'zg', 'end']\n",
      "['start', 'pj', 'RW', 'he', 'RW', 'zg', 'end']\n",
      "['start', 'pj', 'RW', 'he', 'DX', 'fs', 'end']\n",
      "['start', 'pj', 'DX', 'he', 'fs', 'end']\n",
      "['start', 'pj', 'DX', 'he', 'zg', 'end']\n",
      "['start', 'pj', 'DX', 'he', 'RW', 'zg', 'end']\n",
      "['start', 'pj', 'DX', 'he', 'DX', 'fs', 'end']\n",
      "['start', 'pj', 'DX', 'fs', 'end']\n",
      "['start', 'pj', 'DX', 'fs', 'he', 'zg', 'end']\n",
      "['start', 'pj', 'DX', 'fs', 'he', 'RW', 'zg', 'end']\n",
      "['start', 'pj', 'DX', 'fs', 'DX', 'he', 'zg', 'end']\n",
      "['start', 'pj', 'DX', 'fs', 'DX', 'he', 'RW', 'zg', 'end']\n",
      "['start', 'pj', 'he', 'fs', 'end']\n",
      "['start', 'pj', 'he', 'zg', 'end']\n",
      "['start', 'pj', 'he', 'RW', 'zg', 'end']\n",
      "['start', 'pj', 'he', 'DX', 'fs', 'end']\n",
      "['start', 'DX', 'pj', 'fs', 'end']\n",
      "['start', 'DX', 'pj', 'fs', 'he', 'zg', 'end']\n",
      "['start', 'DX', 'pj', 'fs', 'he', 'RW', 'zg', 'end']\n",
      "['start', 'DX', 'pj', 'fs', 'DX', 'he', 'zg', 'end']\n",
      "['start', 'DX', 'pj', 'fs', 'DX', 'he', 'RW', 'zg', 'end']\n",
      "['start', 'DX', 'pj', 'zg', 'end']\n",
      "['start', 'DX', 'pj', 'zg', 'RW', 'he', 'fs', 'end']\n",
      "['start', 'DX', 'pj', 'zg', 'RW', 'he', 'DX', 'fs', 'end']\n",
      "['start', 'DX', 'pj', 'zg', 'he', 'fs', 'end']\n",
      "['start', 'DX', 'pj', 'zg', 'he', 'DX', 'fs', 'end']\n",
      "['start', 'DX', 'pj', 'RW', 'zg', 'end']\n",
      "['start', 'DX', 'pj', 'RW', 'zg', 'RW', 'he', 'fs', 'end']\n",
      "['start', 'DX', 'pj', 'RW', 'zg', 'RW', 'he', 'DX', 'fs', 'end']\n",
      "['start', 'DX', 'pj', 'RW', 'zg', 'he', 'fs', 'end']\n",
      "['start', 'DX', 'pj', 'RW', 'zg', 'he', 'DX', 'fs', 'end']\n",
      "['start', 'DX', 'pj', 'RW', 'he', 'fs', 'end']\n",
      "['start', 'DX', 'pj', 'RW', 'he', 'zg', 'end']\n",
      "['start', 'DX', 'pj', 'RW', 'he', 'RW', 'zg', 'end']\n",
      "['start', 'DX', 'pj', 'RW', 'he', 'DX', 'fs', 'end']\n",
      "['start', 'DX', 'pj', 'DX', 'he', 'fs', 'end']\n",
      "['start', 'DX', 'pj', 'DX', 'he', 'zg', 'end']\n",
      "['start', 'DX', 'pj', 'DX', 'he', 'RW', 'zg', 'end']\n",
      "['start', 'DX', 'pj', 'DX', 'he', 'DX', 'fs', 'end']\n",
      "['start', 'DX', 'pj', 'DX', 'fs', 'end']\n",
      "['start', 'DX', 'pj', 'DX', 'fs', 'he', 'zg', 'end']\n",
      "['start', 'DX', 'pj', 'DX', 'fs', 'he', 'RW', 'zg', 'end']\n",
      "['start', 'DX', 'pj', 'DX', 'fs', 'DX', 'he', 'zg', 'end']\n",
      "['start', 'DX', 'pj', 'DX', 'fs', 'DX', 'he', 'RW', 'zg', 'end']\n",
      "['start', 'DX', 'pj', 'he', 'fs', 'end']\n",
      "['start', 'DX', 'pj', 'he', 'zg', 'end']\n",
      "['start', 'DX', 'pj', 'he', 'RW', 'zg', 'end']\n",
      "['start', 'DX', 'pj', 'he', 'DX', 'fs', 'end']\n",
      "['start', 'DX', 'he', 'fs', 'end']\n",
      "['start', 'DX', 'he', 'fs', 'pj', 'zg', 'end']\n",
      "['start', 'DX', 'he', 'fs', 'pj', 'RW', 'zg', 'end']\n",
      "['start', 'DX', 'he', 'fs', 'DX', 'pj', 'zg', 'end']\n",
      "['start', 'DX', 'he', 'fs', 'DX', 'pj', 'RW', 'zg', 'end']\n",
      "['start', 'DX', 'he', 'zg', 'end']\n",
      "['start', 'DX', 'he', 'zg', 'RW', 'pj', 'fs', 'end']\n",
      "['start', 'DX', 'he', 'zg', 'RW', 'pj', 'DX', 'fs', 'end']\n",
      "['start', 'DX', 'he', 'zg', 'pj', 'fs', 'end']\n",
      "['start', 'DX', 'he', 'zg', 'pj', 'DX', 'fs', 'end']\n",
      "['start', 'DX', 'he', 'RW', 'zg', 'end']\n",
      "['start', 'DX', 'he', 'RW', 'zg', 'RW', 'pj', 'fs', 'end']\n",
      "['start', 'DX', 'he', 'RW', 'zg', 'RW', 'pj', 'DX', 'fs', 'end']\n",
      "['start', 'DX', 'he', 'RW', 'zg', 'pj', 'fs', 'end']\n",
      "['start', 'DX', 'he', 'RW', 'zg', 'pj', 'DX', 'fs', 'end']\n",
      "['start', 'DX', 'he', 'RW', 'pj', 'fs', 'end']\n",
      "['start', 'DX', 'he', 'RW', 'pj', 'zg', 'end']\n",
      "['start', 'DX', 'he', 'RW', 'pj', 'RW', 'zg', 'end']\n",
      "['start', 'DX', 'he', 'RW', 'pj', 'DX', 'fs', 'end']\n",
      "['start', 'DX', 'he', 'pj', 'fs', 'end']\n",
      "['start', 'DX', 'he', 'pj', 'zg', 'end']\n",
      "['start', 'DX', 'he', 'pj', 'RW', 'zg', 'end']\n",
      "['start', 'DX', 'he', 'pj', 'DX', 'fs', 'end']\n",
      "['start', 'DX', 'he', 'DX', 'pj', 'fs', 'end']\n",
      "['start', 'DX', 'he', 'DX', 'pj', 'zg', 'end']\n",
      "['start', 'DX', 'he', 'DX', 'pj', 'RW', 'zg', 'end']\n",
      "['start', 'DX', 'he', 'DX', 'pj', 'DX', 'fs', 'end']\n",
      "['start', 'DX', 'he', 'DX', 'fs', 'end']\n",
      "['start', 'DX', 'he', 'DX', 'fs', 'pj', 'zg', 'end']\n",
      "['start', 'DX', 'he', 'DX', 'fs', 'pj', 'RW', 'zg', 'end']\n",
      "['start', 'DX', 'he', 'DX', 'fs', 'DX', 'pj', 'zg', 'end']\n",
      "['start', 'DX', 'he', 'DX', 'fs', 'DX', 'pj', 'RW', 'zg', 'end']\n",
      "['start', 'DX', 'fs', 'end']\n",
      "['start', 'DX', 'fs', 'he', 'zg', 'end']\n",
      "['start', 'DX', 'fs', 'he', 'RW', 'zg', 'end']\n",
      "['start', 'DX', 'fs', 'he', 'RW', 'pj', 'zg', 'end']\n",
      "['start', 'DX', 'fs', 'he', 'RW', 'pj', 'RW', 'zg', 'end']\n",
      "['start', 'DX', 'fs', 'he', 'pj', 'zg', 'end']\n",
      "['start', 'DX', 'fs', 'he', 'pj', 'RW', 'zg', 'end']\n",
      "['start', 'DX', 'fs', 'he', 'DX', 'pj', 'zg', 'end']\n",
      "['start', 'DX', 'fs', 'he', 'DX', 'pj', 'RW', 'zg', 'end']\n",
      "['start', 'DX', 'fs', 'pj', 'zg', 'end']\n",
      "['start', 'DX', 'fs', 'pj', 'RW', 'zg', 'end']\n",
      "['start', 'DX', 'fs', 'pj', 'RW', 'he', 'zg', 'end']\n",
      "['start', 'DX', 'fs', 'pj', 'RW', 'he', 'RW', 'zg', 'end']\n",
      "['start', 'DX', 'fs', 'pj', 'DX', 'he', 'zg', 'end']\n",
      "['start', 'DX', 'fs', 'pj', 'DX', 'he', 'RW', 'zg', 'end']\n",
      "['start', 'DX', 'fs', 'pj', 'he', 'zg', 'end']\n",
      "['start', 'DX', 'fs', 'pj', 'he', 'RW', 'zg', 'end']\n",
      "['start', 'DX', 'fs', 'DX', 'pj', 'zg', 'end']\n",
      "['start', 'DX', 'fs', 'DX', 'pj', 'RW', 'zg', 'end']\n",
      "['start', 'DX', 'fs', 'DX', 'pj', 'RW', 'he', 'zg', 'end']\n",
      "['start', 'DX', 'fs', 'DX', 'pj', 'RW', 'he', 'RW', 'zg', 'end']\n",
      "['start', 'DX', 'fs', 'DX', 'pj', 'DX', 'he', 'zg', 'end']\n",
      "['start', 'DX', 'fs', 'DX', 'pj', 'DX', 'he', 'RW', 'zg', 'end']\n",
      "['start', 'DX', 'fs', 'DX', 'pj', 'he', 'zg', 'end']\n",
      "['start', 'DX', 'fs', 'DX', 'pj', 'he', 'RW', 'zg', 'end']\n",
      "['start', 'DX', 'fs', 'DX', 'he', 'zg', 'end']\n",
      "['start', 'DX', 'fs', 'DX', 'he', 'RW', 'zg', 'end']\n",
      "['start', 'DX', 'fs', 'DX', 'he', 'RW', 'pj', 'zg', 'end']\n",
      "['start', 'DX', 'fs', 'DX', 'he', 'RW', 'pj', 'RW', 'zg', 'end']\n",
      "['start', 'DX', 'fs', 'DX', 'he', 'pj', 'zg', 'end']\n",
      "['start', 'DX', 'fs', 'DX', 'he', 'pj', 'RW', 'zg', 'end']\n",
      "['start', 'DX', 'fs', 'DX', 'he', 'DX', 'pj', 'zg', 'end']\n",
      "['start', 'DX', 'fs', 'DX', 'he', 'DX', 'pj', 'RW', 'zg', 'end']\n"
     ]
    },
    {
     "data": {
      "text/plain": [
       "226"
      ]
     },
     "execution_count": 86,
     "metadata": {},
     "output_type": "execute_result"
    }
   ],
   "source": [
    "all_paths = find_all_paths(build_caves(demo_large))\n",
    "for path in all_paths:\n",
    "    print(path)\n",
    "len(all_paths)"
   ]
  },
  {
   "cell_type": "code",
   "execution_count": 127,
   "id": "9b3360ae-46fa-4e79-878c-b25c9abb4ffa",
   "metadata": {},
   "outputs": [
    {
     "data": {
      "text/plain": [
       "143562"
      ]
     },
     "execution_count": 127,
     "metadata": {},
     "output_type": "execute_result"
    }
   ],
   "source": [
    "all_paths = find_all_paths(build_caves(input_))\n",
    "#for path in all_paths:\n",
    "#    print(path)\n",
    "len(all_paths)"
   ]
  },
  {
   "cell_type": "markdown",
   "id": "0f91601f-a6a8-48ce-af5e-ff5129d77318",
   "metadata": {},
   "source": [
    "Part Two\n",
    "\n",
    "After reviewing the available paths, you realize you might have time to visit a single small cave twice. Specifically, big caves can be visited any number of times, a single small cave can be visited at most twice, and the remaining small caves can be visited at most once. However, the caves named start and end can only be visited exactly once each: once you leave the start cave, you may not return to it, and once you reach the end cave, the path must end immediately."
   ]
  },
  {
   "cell_type": "code",
   "execution_count": null,
   "id": "12fa54cf-fab2-431f-a893-9bd51cd3aa38",
   "metadata": {},
   "outputs": [],
   "source": []
  }
 ],
 "metadata": {
  "kernelspec": {
   "display_name": "Python 3.9 (aocd)",
   "language": "python",
   "name": "aocd"
  },
  "language_info": {
   "codemirror_mode": {
    "name": "ipython",
    "version": 3
   },
   "file_extension": ".py",
   "mimetype": "text/x-python",
   "name": "python",
   "nbconvert_exporter": "python",
   "pygments_lexer": "ipython3",
   "version": "3.9.7"
  }
 },
 "nbformat": 4,
 "nbformat_minor": 5
}
