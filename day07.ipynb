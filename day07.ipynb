{
 "cells": [
  {
   "cell_type": "code",
   "execution_count": 47,
   "id": "6c03e4b3-a8b2-4ef1-9e81-f12fa9d5ac96",
   "metadata": {},
   "outputs": [],
   "source": [
    "import numpy as np\n",
    "from collections import Counter"
   ]
  },
  {
   "cell_type": "code",
   "execution_count": 48,
   "id": "a1b257d2-61cf-41a7-b8d5-3d9a4109eb59",
   "metadata": {},
   "outputs": [],
   "source": [
    "input_ = list(map(int, open(\"day07.txt\", \"r\", encoding=\"utf-16\").read().strip().split(\",\")))\n",
    "input_ = np.array(input_)"
   ]
  },
  {
   "cell_type": "code",
   "execution_count": 50,
   "id": "b9d68574-335d-4878-a0ed-866405472bb0",
   "metadata": {
    "tags": []
   },
   "outputs": [],
   "source": [
    "#input_"
   ]
  },
  {
   "cell_type": "code",
   "execution_count": 51,
   "id": "6c2200ec-2051-4ab7-8930-dfdfabad99c7",
   "metadata": {},
   "outputs": [],
   "source": [
    "demo_input = np.array([16,1,2,0,4,2,7,1,2,14])"
   ]
  },
  {
   "cell_type": "code",
   "execution_count": 57,
   "id": "eec3ec45-daa3-4818-8f81-134ae7a905d4",
   "metadata": {},
   "outputs": [],
   "source": [
    "best_cost = np.inf\n",
    "best_horizontal_pos = 0\n",
    "\n",
    "grouped_crabs = Counter(demo_input)\n",
    "for h_pos in range(1, max(grouped_crabs)):\n",
    "    cost = sum((abs(k - h_pos) * v) for k,v in grouped_crabs.items())\n",
    "    if cost < best_cost:\n",
    "        best_cost = cost\n",
    "        best_horizontal_pos = h_pos"
   ]
  },
  {
   "cell_type": "code",
   "execution_count": 58,
   "id": "a14a1526-73f1-4571-b1cc-187635736bf1",
   "metadata": {},
   "outputs": [
    {
     "data": {
      "text/plain": [
       "(2, 37)"
      ]
     },
     "execution_count": 58,
     "metadata": {},
     "output_type": "execute_result"
    }
   ],
   "source": [
    "best_horizontal_pos, best_cost"
   ]
  },
  {
   "cell_type": "code",
   "execution_count": 59,
   "id": "94d6cf79-589c-43d0-bb4e-e720e9b0b5ff",
   "metadata": {},
   "outputs": [],
   "source": [
    "best_cost = np.inf\n",
    "best_horizontal_pos = 0\n",
    "\n",
    "grouped_crabs = Counter(input_)\n",
    "for h_pos in range(1, max(grouped_crabs)):\n",
    "    cost = sum((abs(k - h_pos) * v) for k,v in grouped_crabs.items())\n",
    "    if cost < best_cost:\n",
    "        best_cost = cost\n",
    "        best_horizontal_pos = h_pos"
   ]
  },
  {
   "cell_type": "code",
   "execution_count": 60,
   "id": "6d7c4039-d504-41fa-a857-552b959f1c02",
   "metadata": {},
   "outputs": [
    {
     "data": {
      "text/plain": [
       "(362, 342534)"
      ]
     },
     "execution_count": 60,
     "metadata": {},
     "output_type": "execute_result"
    }
   ],
   "source": [
    "best_horizontal_pos, best_cost"
   ]
  },
  {
   "cell_type": "markdown",
   "id": "fe08af8a-cd69-48b7-80c0-ac837fa901e3",
   "metadata": {},
   "source": [
    "Part Two\n",
    "\n",
    "As it turns out, crab submarine engines don't burn fuel at a constant rate. Instead, each change of 1 step in horizontal position costs 1 more unit of fuel than the last: the first step costs 1, the second step costs 2, the third step costs 3, and so on."
   ]
  },
  {
   "cell_type": "code",
   "execution_count": 39,
   "id": "91267811-f6e1-476d-8af0-b3149e73eb53",
   "metadata": {},
   "outputs": [
    {
     "data": {
      "text/plain": [
       "66"
      ]
     },
     "execution_count": 39,
     "metadata": {},
     "output_type": "execute_result"
    }
   ],
   "source": [
    "sum(range(12))"
   ]
  },
  {
   "cell_type": "code",
   "execution_count": 43,
   "id": "ee6da880-4f79-4978-bcb1-97aa52c1d1f4",
   "metadata": {},
   "outputs": [],
   "source": [
    "best_cost = np.inf\n",
    "best_horizontal_pos = 0\n",
    "\n",
    "for i in range(1, max(demo_input)):\n",
    "    cost = abs(demo_input - i)\n",
    "    cost = sum((sum(range(x+1)) for x in cost))\n",
    "    if cost < best_cost:\n",
    "        best_cost = cost\n",
    "        best_horizontal_pos = i"
   ]
  },
  {
   "cell_type": "code",
   "execution_count": 44,
   "id": "61381926-f460-4d50-bf97-4679199f08fc",
   "metadata": {},
   "outputs": [
    {
     "data": {
      "text/plain": [
       "(5, 168)"
      ]
     },
     "execution_count": 44,
     "metadata": {},
     "output_type": "execute_result"
    }
   ],
   "source": [
    "best_horizontal_pos, best_cost"
   ]
  },
  {
   "cell_type": "code",
   "execution_count": 45,
   "id": "1614881a-3ea8-4dee-9467-c0058dcbc8c4",
   "metadata": {},
   "outputs": [],
   "source": [
    "best_cost = np.inf\n",
    "best_horizontal_pos = 0\n",
    "\n",
    "for i in range(1, max(input_)):\n",
    "    cost = abs(input_ - i)\n",
    "    cost = sum((sum(range(x+1)) for x in cost))\n",
    "    if cost < best_cost:\n",
    "        best_cost = cost\n",
    "        best_horizontal_pos = i"
   ]
  },
  {
   "cell_type": "code",
   "execution_count": 46,
   "id": "84b13612-a75c-4178-8449-12314f27ef79",
   "metadata": {},
   "outputs": [
    {
     "data": {
      "text/plain": [
       "(474, 94004208)"
      ]
     },
     "execution_count": 46,
     "metadata": {},
     "output_type": "execute_result"
    }
   ],
   "source": [
    "best_horizontal_pos, best_cost"
   ]
  },
  {
   "cell_type": "code",
   "execution_count": null,
   "id": "40d85118-bce3-4189-bdfd-2b2c4915666f",
   "metadata": {},
   "outputs": [],
   "source": []
  }
 ],
 "metadata": {
  "kernelspec": {
   "display_name": "Python 3.9 (aocd)",
   "language": "python",
   "name": "aocd"
  },
  "language_info": {
   "codemirror_mode": {
    "name": "ipython",
    "version": 3
   },
   "file_extension": ".py",
   "mimetype": "text/x-python",
   "name": "python",
   "nbconvert_exporter": "python",
   "pygments_lexer": "ipython3",
   "version": "3.9.7"
  }
 },
 "nbformat": 4,
 "nbformat_minor": 5
}
