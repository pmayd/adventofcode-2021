{
 "cells": [
  {
   "cell_type": "code",
   "execution_count": 36,
   "id": "879676ec-3fcc-4d3f-9574-cd26a91a0c45",
   "metadata": {},
   "outputs": [],
   "source": [
    "import pandas as pd\n",
    "import numpy as np"
   ]
  },
  {
   "cell_type": "markdown",
   "id": "07651097-f72b-48c9-9e7b-45cfb830e272",
   "metadata": {},
   "source": [
    "Each line of vents is given as a line segment in the format x1,y1 -> x2,y2 where x1,y1 are the coordinates of one end the line segment and x2,y2 are the coordinates of the other end. These line segments include the points at both ends. In other words:\n",
    "\n",
    "    An entry like 1,1 -> 1,3 covers points 1,1, 1,2, and 1,3.\n",
    "    An entry like 9,7 -> 7,7 covers points 9,7, 8,7, and 7,7.\n",
    "\n",
    "For now, only consider horizontal and vertical lines: lines where either x1 = x2 or y1 = y2."
   ]
  },
  {
   "cell_type": "markdown",
   "id": "845a4f82-035e-4dc9-ac6e-d6aedb214e17",
   "metadata": {},
   "source": [
    "To avoid the most dangerous areas, you need to determine the number of points where at least two lines overlap. In the above example, this is anywhere in the diagram with a 2 or larger - a total of 5 points.\n",
    "\n",
    "Consider only horizontal and vertical lines. At how many points do at least two lines overlap?"
   ]
  },
  {
   "cell_type": "code",
   "execution_count": 25,
   "id": "05253b79-a2d5-4cef-ab5e-1b0f9739a9ab",
   "metadata": {},
   "outputs": [],
   "source": [
    "lines = []\n",
    "with open(\"day5.txt\", \"r\", encoding=\"utf-8\") as fh:\n",
    "    for line in fh:\n",
    "        start, end = line.split(\" -> \")\n",
    "        lines.append(tuple(map(int, start.split(\",\") + end.split(\",\"))))"
   ]
  },
  {
   "cell_type": "code",
   "execution_count": 26,
   "id": "4509467d-17d2-4180-b1bd-1176fb8b20c0",
   "metadata": {
    "tags": []
   },
   "outputs": [
    {
     "data": {
      "text/plain": [
       "[(644, 38, 644, 265),\n",
       " (941, 468, 941, 89),\n",
       " (807, 552, 618, 363),\n",
       " (896, 510, 896, 744),\n",
       " (227, 909, 227, 745),\n",
       " (24, 66, 946, 988),\n",
       " (563, 529, 563, 270),\n",
       " (894, 707, 359, 172),\n",
       " (146, 253, 146, 569),\n",
       " (544, 683, 140, 683)]"
      ]
     },
     "execution_count": 26,
     "metadata": {},
     "output_type": "execute_result"
    }
   ],
   "source": [
    "lines[:10]"
   ]
  },
  {
   "cell_type": "code",
   "execution_count": 27,
   "id": "21c212b5-396a-4a2d-8b4d-bdefa2056340",
   "metadata": {},
   "outputs": [
    {
     "data": {
      "text/plain": [
       "500"
      ]
     },
     "execution_count": 27,
     "metadata": {},
     "output_type": "execute_result"
    }
   ],
   "source": [
    "len(lines)"
   ]
  },
  {
   "cell_type": "code",
   "execution_count": 28,
   "id": "6798304e-7fb4-431e-bce8-c78acd51c8f5",
   "metadata": {},
   "outputs": [],
   "source": [
    "horizontal_or_vertial_lines = [l for l in lines if l[0] == l[2] or l[1] == l[3]]"
   ]
  },
  {
   "cell_type": "code",
   "execution_count": 29,
   "id": "470453bc-ad53-4d91-b133-f1eb6dcbd497",
   "metadata": {},
   "outputs": [
    {
     "data": {
      "text/plain": [
       "[(644, 38, 644, 265),\n",
       " (941, 468, 941, 89),\n",
       " (896, 510, 896, 744),\n",
       " (227, 909, 227, 745),\n",
       " (563, 529, 563, 270),\n",
       " (146, 253, 146, 569),\n",
       " (544, 683, 140, 683),\n",
       " (755, 612, 755, 463),\n",
       " (394, 320, 891, 320),\n",
       " (68, 616, 68, 628)]"
      ]
     },
     "execution_count": 29,
     "metadata": {},
     "output_type": "execute_result"
    }
   ],
   "source": [
    "horizontal_or_vertial_lines[:10]"
   ]
  },
  {
   "cell_type": "code",
   "execution_count": 30,
   "id": "e0251283-ace1-4f6b-9e27-4f6bf33a2a72",
   "metadata": {},
   "outputs": [
    {
     "data": {
      "text/plain": [
       "324"
      ]
     },
     "execution_count": 30,
     "metadata": {},
     "output_type": "execute_result"
    }
   ],
   "source": [
    "len(horizontal_or_vertial_lines)"
   ]
  },
  {
   "cell_type": "code",
   "execution_count": 172,
   "id": "213ffbc0-355a-4f80-bd95-bd1711de6179",
   "metadata": {},
   "outputs": [
    {
     "data": {
      "text/plain": [
       "(12, 11, 989, 989)"
      ]
     },
     "execution_count": 172,
     "metadata": {},
     "output_type": "execute_result"
    }
   ],
   "source": [
    "min_x, max_x = min([min([l[0], l[2]]) for l in horizontal_or_vertial_lines]), max([max([l[0], l[2]]) for l in horizontal_or_vertial_lines])\n",
    "min_y, max_y = min([min([l[1], l[3]]) for l in horizontal_or_vertial_lines]), max([max([l[1], l[3]]) for l in horizontal_or_vertial_lines])\n",
    "\n",
    "min_x, min_y, max_x, max_y"
   ]
  },
  {
   "cell_type": "code",
   "execution_count": 173,
   "id": "1afc2c22-612b-4d4c-97a8-545f69747f8d",
   "metadata": {},
   "outputs": [
    {
     "data": {
      "text/plain": [
       "(978, 979)"
      ]
     },
     "execution_count": 173,
     "metadata": {},
     "output_type": "execute_result"
    }
   ],
   "source": [
    "board = np.zeros((max_x + 1 - min_x, max_y + 1 - min_y))\n",
    "board.shape"
   ]
  },
  {
   "cell_type": "code",
   "execution_count": 174,
   "id": "2b5fd50b-fe02-4374-84c0-4046e4c6d086",
   "metadata": {
    "tags": []
   },
   "outputs": [],
   "source": [
    "for line in horizontal_or_vertial_lines:\n",
    "    x1, y1, x2, y2 = line[0] - min_x, line[1] - min_y, line[2] - min_x, line[3] - min_y  # coordinates between 0 and 979\n",
    "    \n",
    "    if x1 > x2:\n",
    "        x1, x2 = x2, x1\n",
    "    \n",
    "    if y1 > y2:\n",
    "        y1, y2 = y2, y1    \n",
    "    \n",
    "    board[y1:y2+1, x1:x2+1] += 1"
   ]
  },
  {
   "cell_type": "code",
   "execution_count": 175,
   "id": "4ac0725d-2e35-4097-a69b-37cb11fc4ed4",
   "metadata": {},
   "outputs": [
    {
     "data": {
      "text/plain": [
       "array([[0., 0., 0., ..., 0., 0., 0.],\n",
       "       [0., 0., 0., ..., 0., 0., 0.],\n",
       "       [0., 0., 0., ..., 0., 0., 0.],\n",
       "       ...,\n",
       "       [0., 0., 0., ..., 0., 0., 0.],\n",
       "       [0., 0., 0., ..., 0., 0., 0.],\n",
       "       [0., 0., 0., ..., 0., 0., 0.]])"
      ]
     },
     "execution_count": 175,
     "metadata": {},
     "output_type": "execute_result"
    }
   ],
   "source": [
    "board"
   ]
  },
  {
   "cell_type": "code",
   "execution_count": 176,
   "id": "3e7ab95c-023b-4440-802c-90b8cf0e95b1",
   "metadata": {},
   "outputs": [
    {
     "data": {
      "text/plain": [
       "5632"
      ]
     },
     "execution_count": 176,
     "metadata": {},
     "output_type": "execute_result"
    }
   ],
   "source": [
    "(board >= 2).sum()"
   ]
  },
  {
   "cell_type": "markdown",
   "id": "d8ab032e-7486-4901-b4f5-28ab3d143c61",
   "metadata": {},
   "source": [
    "Part Two\n",
    "\n",
    "Unfortunately, considering only horizontal and vertical lines doesn't give you the full picture; you need to also consider diagonal lines.\n",
    "\n",
    "Because of the limits of the hydrothermal vent mapping system, the lines in your list will only ever be horizontal, vertical, or a diagonal line at exactly 45 degrees. In other words:\n",
    "\n",
    "    An entry like 1,1 -> 3,3 covers points 1,1, 2,2, and 3,3.\n",
    "    An entry like 9,7 -> 7,9 covers points 9,7, 8,8, and 7,9.\n"
   ]
  },
  {
   "cell_type": "code",
   "execution_count": 177,
   "id": "d0a01167-981e-4ad7-835c-c2088d1814bc",
   "metadata": {},
   "outputs": [
    {
     "data": {
      "text/plain": [
       "(10, 10, 989, 989)"
      ]
     },
     "execution_count": 177,
     "metadata": {},
     "output_type": "execute_result"
    }
   ],
   "source": [
    "min_x, max_x = min([min([l[0], l[2]]) for l in lines]), max([max([l[0], l[2]]) for l in lines])\n",
    "min_y, max_y = min([min([l[1], l[3]]) for l in lines]), max([max([l[1], l[3]]) for l in lines])\n",
    "\n",
    "min_x, min_y, max_x, max_y"
   ]
  },
  {
   "cell_type": "code",
   "execution_count": 178,
   "id": "9f59f4ca-6df2-4d73-ad81-c178a1867531",
   "metadata": {},
   "outputs": [
    {
     "data": {
      "text/plain": [
       "(980, 980)"
      ]
     },
     "execution_count": 178,
     "metadata": {},
     "output_type": "execute_result"
    }
   ],
   "source": [
    "board = np.zeros((max_x + 1 - min_x, max_y + 1 - min_y))\n",
    "board.shape"
   ]
  },
  {
   "cell_type": "code",
   "execution_count": 179,
   "id": "84ffdbc7-b333-4df3-b278-3f0043288739",
   "metadata": {
    "tags": []
   },
   "outputs": [],
   "source": [
    "for line in lines:\n",
    "    x1, y1, x2, y2 = line[0] - min_x, line[1] - min_y, line[2] - min_x, line[3] - min_y  # coordinates between 0 and 979\n",
    "            \n",
    "    if x1 != x2 and y1 != y2:\n",
    "        xx = np.linspace(x1, x2, abs(x1 - x2) + 1).astype(int)\n",
    "        yy = np.linspace(y1, y2, abs(y1 - y2) + 1).astype(int)\n",
    "                    \n",
    "        board[yy, xx] += 1  # only change diagonals\n",
    "    else:    \n",
    "        if x1 > x2:\n",
    "            x1, x2 = x2, x1\n",
    "    \n",
    "        if y1 > y2:\n",
    "            y1, y2 = y2, y1    \n",
    "            \n",
    "        board[y1:y2+1, x1:x2+1] += 1  # only change one row or column"
   ]
  },
  {
   "cell_type": "code",
   "execution_count": 180,
   "id": "ab412ecf-359a-4cb4-a204-3f45aa1c9d2d",
   "metadata": {},
   "outputs": [
    {
     "data": {
      "text/plain": [
       "array([[0., 0., 0., ..., 0., 0., 0.],\n",
       "       [0., 0., 0., ..., 0., 0., 0.],\n",
       "       [0., 0., 1., ..., 0., 0., 0.],\n",
       "       ...,\n",
       "       [0., 0., 0., ..., 1., 0., 0.],\n",
       "       [0., 0., 0., ..., 0., 1., 0.],\n",
       "       [0., 0., 0., ..., 0., 0., 1.]])"
      ]
     },
     "execution_count": 180,
     "metadata": {},
     "output_type": "execute_result"
    }
   ],
   "source": [
    "board"
   ]
  },
  {
   "cell_type": "code",
   "execution_count": 181,
   "id": "ad9c4944-c29a-4249-b246-b3609b264fd7",
   "metadata": {},
   "outputs": [
    {
     "data": {
      "text/plain": [
       "22213"
      ]
     },
     "execution_count": 181,
     "metadata": {},
     "output_type": "execute_result"
    }
   ],
   "source": [
    "(board >= 2).sum()"
   ]
  },
  {
   "cell_type": "code",
   "execution_count": 182,
   "id": "2a6f433f-160d-45df-bedd-39833610da70",
   "metadata": {},
   "outputs": [
    {
     "data": {
      "text/plain": [
       "array([[0.54569041, 0.84555697, 0.96286084, 0.28001758, 0.91868333],\n",
       "       [0.36444798, 0.77880055, 0.25932984, 0.88587709, 0.23455367],\n",
       "       [0.70357061, 0.72887378, 0.61538336, 0.09030853, 0.3101024 ],\n",
       "       [0.30442185, 0.43623131, 0.29948812, 0.40994503, 0.98694304],\n",
       "       [0.80430659, 0.77137011, 0.02875037, 0.16620132, 0.82062312]])"
      ]
     },
     "execution_count": 182,
     "metadata": {},
     "output_type": "execute_result"
    }
   ],
   "source": [
    "x = np.random.rand(5,5)\n",
    "x"
   ]
  },
  {
   "cell_type": "code",
   "execution_count": 116,
   "id": "4bde31db-e9b5-409f-94db-0c78e7754bb8",
   "metadata": {},
   "outputs": [
    {
     "data": {
      "text/plain": [
       "array([], shape=(2, 0), dtype=float64)"
      ]
     },
     "execution_count": 116,
     "metadata": {},
     "output_type": "execute_result"
    }
   ],
   "source": [
    "x[1:3,3:1]"
   ]
  },
  {
   "cell_type": "code",
   "execution_count": 144,
   "id": "a31fd634-a8fd-463d-adb0-299f4ea11705",
   "metadata": {},
   "outputs": [
    {
     "data": {
      "text/plain": [
       "array([3., 2., 1.])"
      ]
     },
     "execution_count": 144,
     "metadata": {},
     "output_type": "execute_result"
    }
   ],
   "source": [
    "np.linspace(3,1, 3)"
   ]
  },
  {
   "cell_type": "code",
   "execution_count": null,
   "id": "03352f3e-b6e3-4089-91f0-8a44d062a94d",
   "metadata": {},
   "outputs": [],
   "source": []
  }
 ],
 "metadata": {
  "kernelspec": {
   "display_name": "Python 3.9 (aocd)",
   "language": "python",
   "name": "aocd"
  },
  "language_info": {
   "codemirror_mode": {
    "name": "ipython",
    "version": 3
   },
   "file_extension": ".py",
   "mimetype": "text/x-python",
   "name": "python",
   "nbconvert_exporter": "python",
   "pygments_lexer": "ipython3",
   "version": "3.9.7"
  }
 },
 "nbformat": 4,
 "nbformat_minor": 5
}
